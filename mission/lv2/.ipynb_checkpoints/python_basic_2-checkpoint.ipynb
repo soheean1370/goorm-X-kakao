{
 "cells": [
  {
   "cell_type": "code",
   "execution_count": null,
   "id": "0ed790e3-7cb1-4fe6-9908-49ea7f1d512b",
   "metadata": {},
   "outputs": [],
   "source": [
    "# try-except 문으로 예외 처리하기\n",
    "\n",
    "try:\n",
    "    a = 0\n",
    "    b = 7\n",
    "    print(a/7)\n",
    "except ZeroDivisionError as e:\n",
    "    print(e)\n",
    "    "
   ]
  }
 ],
 "metadata": {
  "kernelspec": {
   "display_name": "Python [conda env:base] *",
   "language": "python",
   "name": "conda-base-py"
  },
  "language_info": {
   "codemirror_mode": {
    "name": "ipython",
    "version": 3
   },
   "file_extension": ".py",
   "mimetype": "text/x-python",
   "name": "python",
   "nbconvert_exporter": "python",
   "pygments_lexer": "ipython3",
   "version": "3.12.3"
  }
 },
 "nbformat": 4,
 "nbformat_minor": 5
}
