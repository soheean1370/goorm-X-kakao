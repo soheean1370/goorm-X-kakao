{
 "cells": [
  {
   "cell_type": "code",
   "execution_count": 3,
   "id": "8a0f39ee-ab44-4553-8e95-24ff03505ef0",
   "metadata": {},
   "outputs": [
    {
     "name": "stdout",
     "output_type": "stream",
     "text": [
      "This is code cell\n"
     ]
    }
   ],
   "source": [
    "print('This is code cell')"
   ]
  },
  {
   "cell_type": "code",
   "execution_count": 4,
   "id": "977a954a-eb55-43b4-91b2-10ca6e4ace99",
   "metadata": {},
   "outputs": [
    {
     "name": "stdout",
     "output_type": "stream",
     "text": [
      "aaa\n",
      "bbb\n",
      "ccc\n"
     ]
    }
   ],
   "source": [
    "if 5 >2 :\n",
    "    print('aaa')\n",
    "    print('bbb')\n",
    "print('ccc')"
   ]
  },
  {
   "cell_type": "code",
   "execution_count": 12,
   "id": "6c01e2b2-280d-43fe-baa4-1b292f8c7eff",
   "metadata": {},
   "outputs": [
    {
     "name": "stdout",
     "output_type": "stream",
     "text": [
      "당신의 정보를 기록합니다~\n",
      "\n",
      "당신의 이름은 홍길동, 몸무게는 76.8, 키는 171 입니다\n"
     ]
    }
   ],
   "source": [
    "print(\"당신의 정보를 기록합니다~\\n\")\n",
    "\n",
    "name=\"홍길동\"\n",
    "weight = 76.8\n",
    "height = 171\n",
    "\n",
    "print(f\"당신의 이름은 %s, 몸무게는 %s, 키는 %d 입니다\" %(name,weight,height))\n"
   ]
  },
  {
   "cell_type": "code",
   "execution_count": 21,
   "id": "68b84556-640c-46c3-ab99-4cf4aab8b055",
   "metadata": {},
   "outputs": [
    {
     "name": "stdin",
     "output_type": "stream",
     "text": [
      "이름을 입력하세요:  안소희\n",
      "나이를 입력하세요:  23\n",
      "키를 입력하세요:  160\n"
     ]
    },
    {
     "name": "stdout",
     "output_type": "stream",
     "text": [
      "안녕하세요 안소희님!\n",
      "나이: 23\n",
      "키: 160.00cm\n"
     ]
    }
   ],
   "source": [
    "name = input(\"이름을 입력하세요: \")\n",
    "age = int(input(\"나이를 입력하세요: \"))\n",
    "height = float(input(\"키를 입력하세요: \"))\n",
    "\n",
    "print(\"안녕하세요 %s님!\\n나이: %d\\n키: %.2fcm\" % (name, age, height))\n"
   ]
  },
  {
   "cell_type": "code",
   "execution_count": 9,
   "id": "adeaf1d3-7fe1-4a51-af6b-33a8775ead82",
   "metadata": {},
   "outputs": [
    {
     "name": "stdin",
     "output_type": "stream",
     "text": [
      "당신의 나이는?:  25\n"
     ]
    },
    {
     "name": "stdout",
     "output_type": "stream",
     "text": [
      "당신은 19세가 아닙니다.\n",
      "당신은 19세 이상입니다.\n",
      "당신은 20세 이상입니다.\n",
      "당신은 20대입니다\n"
     ]
    }
   ],
   "source": [
    "# 연습문제 1\n",
    "age = int(input(\"당신의 나이는?: \"))\n",
    "if age  == 19:\n",
    "    print(\"당신은 올해 성년이 되셨군요!\")\n",
    "if age != 19:\n",
    "    print(\"당신은 19세가 아닙니다.\")\n",
    "if age >= 19:\n",
    "    print(\"당신은 19세 이상입니다.\")\n",
    "if age > 19:\n",
    "    print(\"당신은 20세 이상입니다.\")\n",
    "if 30 > age > 19:\n",
    "    print(\"당신은 20대입니다\")\n"
   ]
  },
  {
   "cell_type": "code",
   "execution_count": 69,
   "id": "214c196e-73c3-4a5e-b9c6-d2646fbd655f",
   "metadata": {},
   "outputs": [
    {
     "name": "stdin",
     "output_type": "stream",
     "text": [
      "다리가 몇 개입니까?:  4\n",
      "새끼가 2마리 이상입니까?(True/False) TRue\n",
      "초식입니까, 잡식입니까?(초식/잡식) 잡식\n"
     ]
    },
    {
     "name": "stdout",
     "output_type": "stream",
     "text": [
      "소 또는 돼지입니다\n",
      "돼지가 분명합니다\n"
     ]
    }
   ],
   "source": [
    "# 연습문제 2\n",
    "animals = ['닭','소','돼지']\n",
    "\n",
    "legs = int(input(\"다리가 몇 개입니까?: \"))\n",
    "children = input(\"새끼가 2마리 이상입니까?(True/False)\").lower()\n",
    "foods = input(\"초식입니까, 잡식입니까?(초식/잡식)\")\n",
    "\n",
    "\n",
    "if legs == 2:\n",
    "    print(\"{}\".format(animals[0]))\n",
    "if legs == 4 and children == \"true\":\n",
    "    print(\"{} 또는 {}입니다\".format(animals[1],animals[2]))\n",
    "if legs == 4 and children == \"true\" and foods == \"잡식\":\n",
    "    print(\"{}가 분명합니다\".format(animals[2]))\n",
    "if legs == 4 and children == \"true\" and foods == '초식' :\n",
    "    print(\"{}가 분명합니다\".format(animals[1]))"
   ]
  },
  {
   "cell_type": "code",
   "execution_count": 41,
   "id": "f06cf11a-82c1-4f48-8bd3-06bc2c47af79",
   "metadata": {},
   "outputs": [
    {
     "name": "stdin",
     "output_type": "stream",
     "text": [
      "찾는 가축을 입력하세요:  판다\n"
     ]
    },
    {
     "name": "stdout",
     "output_type": "stream",
     "text": [
      "판다.. 없습니다..\n"
     ]
    }
   ],
   "source": [
    "# 연습문제 3\n",
    "farm = ['닭','소','돼지']\n",
    "animal = input(\"찾는 가축을 입력하세요: \")\n",
    "if animal in farm:\n",
    "    print(\"{}, 있습니다!\".format(animal))\n",
    "if animal not in farm: # else\n",
    "    print(\"{}.. 없습니다..\".format(animal))\n"
   ]
  },
  {
   "cell_type": "code",
   "execution_count": 59,
   "id": "ab2cc082-26d5-4349-98d7-53a14cfe6df0",
   "metadata": {},
   "outputs": [
    {
     "name": "stdout",
     "output_type": "stream",
     "text": [
      "홍길동, 성적: 85\n",
      "김철수, 성적: 90\n",
      "이영희, 성적: 78\n",
      "박민지, 성적: 92\n",
      "최준호, 성적: 88\n",
      "학생 이름: ['홍길동', '김철수', '이영희', '박민지', '최준호']\n",
      "학생 성적: [85, 90, 78, 92, 88]\n",
      "평균 점수: 86.60\n"
     ]
    }
   ],
   "source": [
    "#심화 연습 문제\n",
    "scores_data = \"\"\" 학생1: 홍길동, 성적: 85\n",
    "학생2: 김철수, 성적: 90\n",
    "학생3: 이영희, 성적: 78\n",
    "학생4: 박민지, 성적: 92\n",
    "학생5: 최준호, 성적: 88\"\"\"\n",
    "\n",
    "students_data = scores_data.strip().split('\\n')\n",
    "\n",
    "\n",
    "names = [] # 이름\n",
    "scores = [] # 점수\n",
    "\n",
    "for student_info in students_data:\n",
    "    parts = student_info.split(': ', 1)[1] #학생n 빼기 \n",
    "    print(parts)\n",
    "    name, score = parts.split(', 성적: ')\n",
    "    \n",
    "    names.append(name)\n",
    "    scores.append(int(score))\n",
    "\n",
    "print(\"학생 이름:\", names)\n",
    "print(\"학생 성적:\", scores)\n",
    "\n",
    "#평균 점수 계산\n",
    "average_score = sum(scores) / len(scores)\n",
    "print(f\"평균 점수: {average_score:.2f}\")"
   ]
  },
  {
   "cell_type": "code",
   "execution_count": null,
   "id": "bf712df6-0f20-4972-bab8-b6e11efea1bc",
   "metadata": {},
   "outputs": [],
   "source": [
    "farms = ['제일농장','우리농장','한국농장']\n",
    "animals = ['닭','소','돼지']\n",
    "\n",
    "제일농장 = [100,50,80]\n",
    "우리농장 = [50,10,20]\n",
    "한국농장 = [200,100,150]\n",
    "\n",
    "for farm in farms:\n",
    "    print('\\n')\n",
    "    print('*'*5,farm,'*'*5)\n",
    "    for i,animal in enumerate(animals):\n",
    "        if farm == '제일농장':\n",
    "            print(\"{}, {}마리입니다.\".format(animal,제일농장[i]))\n",
    "        elif farm == '우리농장':\n",
    "            print(\"{}, {}마리입니다.\".format(animal,우리농장[i]))\n",
    "        elif farm == '한국농장':\n",
    "            print(\"{}, {}마리입니다.\".format(animal,한국농장[i]))\n",
    "        "
   ]
  },
  {
   "cell_type": "code",
   "execution_count": 1,
   "id": "06553038-4e29-4e12-be16-2bfdf1af4562",
   "metadata": {},
   "outputs": [
    {
     "name": "stdout",
     "output_type": "stream",
     "text": [
      "\n",
      "\n",
      "***** 제일농장 *****\n",
      "닭, [100, 50, 80]마리입니다.\n",
      "소, [100, 50, 80]마리입니다.\n",
      "돼지, [100, 50, 80]마리입니다.\n",
      "\n",
      "\n",
      "***** 우리농장 *****\n",
      "닭, [50, 10, 20]마리입니다.\n",
      "소, [50, 10, 20]마리입니다.\n",
      "돼지, [50, 10, 20]마리입니다.\n",
      "\n",
      "\n",
      "***** 한국농장 *****\n",
      "닭, [200, 100, 150]마리입니다.\n",
      "소, [200, 100, 150]마리입니다.\n",
      "돼지, [200, 100, 150]마리입니다.\n"
     ]
    }
   ],
   "source": [
    "farms = ['제일농장', '우리농장', '한국농장']\n",
    "animals = ['닭', '소', '돼지']\n",
    "\n",
    "# 농장 데이터를 딕셔너리로 관리\n",
    "farm_data = {\n",
    "    '제일농장': [100, 50, 80],\n",
    "    '우리농장': [50, 10, 20],\n",
    "    '한국농장': [200, 100, 150]\n",
    "}\n",
    "\n",
    "# 농장별로 출력\n",
    "for farm in farms:\n",
    "    print('\\n')\n",
    "    print('*' * 5, farm, '*' * 5)\n",
    "    for i, animal in enumerate(animals):\n",
    "        print(\"{}, {}마리입니다.\".format(animal, farm_data[farm]))\n"
   ]
  },
  {
   "cell_type": "code",
   "execution_count": 95,
   "id": "c0859ac5-4ef1-4452-b903-c487065fd870",
   "metadata": {},
   "outputs": [
    {
     "name": "stdout",
     "output_type": "stream",
     "text": [
      "메뉴판\n",
      " 1. Pizza - 12000원 \n",
      " 2. Burger - 8000원 \n",
      " 3. Pasta - 15000원 \n",
      " 4. Sushi - 20000원 \n",
      " 5. Salad - 6000원 \n"
     ]
    },
    {
     "name": "stdin",
     "output_type": "stream",
     "text": [
      "\n",
      "주문할 음식을 입력하세요(쉼표로 구분):  pizza, salad, milk\n"
     ]
    },
    {
     "name": "stdout",
     "output_type": "stream",
     "text": [
      "\n",
      "주문내역\n",
      "1. Pizza - 12000원\n",
      "2. Salad - 6000원\n",
      "3. 메뉴판에 없는 음식입니다\n",
      "\n",
      "총 가격\n",
      "총: 18000원\n"
     ]
    }
   ],
   "source": [
    "menu = [(\"Pizza\", 12000),(\"Burger\", 8000),(\"Pasta\", 15000),(\"Sushi\", 20000),(\"Salad\", 6000)]\n",
    "total = 0\n",
    "print(\"메뉴판\")\n",
    "for i in range(len(menu)):\n",
    "    print(f\" {i+1}. {menu[i][0]} - {menu[i][1]}원 \")\n",
    "    \n",
    "    \n",
    "lst = input(\"\\n주문할 음식을 입력하세요(쉼표로 구분): \" )\n",
    "foods = lst.strip().split(\",\")\n",
    "print(\"\\n주문내역\")\n",
    "for i,food in enumerate(foods):\n",
    "    food = food.strip()\n",
    "    price = 0\n",
    "    for item in menu:\n",
    "        if item[0].lower() == food.lower():\n",
    "            food = item[0]\n",
    "            price = item[1]\n",
    "            break\n",
    "    if price > 0 :\n",
    "        print(f\"{i+1}. {food} - {price}원\")\n",
    "    else:\n",
    "        print(f\"{i+1}. 메뉴판에 없는 음식입니다\")\n",
    "    total += price\n",
    "\n",
    "print(\"\\n총 가격\")\n",
    "print(f\"총: {total}원\")"
   ]
  },
  {
   "cell_type": "code",
   "execution_count": null,
   "id": "ecc94401-f873-4bb0-990a-26f857441f9c",
   "metadata": {},
   "outputs": [],
   "source": []
  }
 ],
 "metadata": {
  "kernelspec": {
   "display_name": "Python [conda env:base] *",
   "language": "python",
   "name": "conda-base-py"
  },
  "language_info": {
   "codemirror_mode": {
    "name": "ipython",
    "version": 3
   },
   "file_extension": ".py",
   "mimetype": "text/x-python",
   "name": "python",
   "nbconvert_exporter": "python",
   "pygments_lexer": "ipython3",
   "version": "3.12.7"
  }
 },
 "nbformat": 4,
 "nbformat_minor": 5
}
