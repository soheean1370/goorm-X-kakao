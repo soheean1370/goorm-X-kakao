{
 "cells": [
  {
   "cell_type": "markdown",
   "id": "12a58218-2c92-4594-a12a-039cc7062a0e",
   "metadata": {},
   "source": [
    "# try-except 문으로 예외 처리하기"
   ]
  },
  {
   "cell_type": "code",
   "execution_count": 23,
   "id": "0ed790e3-7cb1-4fe6-9908-49ea7f1d512b",
   "metadata": {},
   "outputs": [
    {
     "name": "stdout",
     "output_type": "stream",
     "text": [
      "division by zero\n"
     ]
    }
   ],
   "source": [
    "try:\n",
    "    a = 0\n",
    "    b = 7\n",
    "    print(b/a)\n",
    "except ZeroDivisionError as e:\n",
    "    print(e)\n",
    "    "
   ]
  },
  {
   "cell_type": "markdown",
   "id": "4201ebc7-f58b-47c9-b6db-21b4789410be",
   "metadata": {},
   "source": [
    "#   조건문 작성"
   ]
  },
  {
   "cell_type": "code",
   "execution_count": 26,
   "id": "10096947-e729-42be-966e-cdca49677eb0",
   "metadata": {},
   "outputs": [
    {
     "name": "stdout",
     "output_type": "stream",
     "text": [
      "택시를 타고 가라\n"
     ]
    }
   ],
   "source": [
    "money = 2000\n",
    "card= True\n",
    "\n",
    "if money >= 3000 or card:\n",
    "    print(\"택시를 타고 가라\")\n",
    "else:\n",
    "    print(\"걸어가라\")"
   ]
  },
  {
   "cell_type": "code",
   "execution_count": 28,
   "id": "ace2f275-110c-441a-bee9-f029ce27916a",
   "metadata": {},
   "outputs": [
    {
     "name": "stdout",
     "output_type": "stream",
     "text": [
      "돈을 받았으니 커피를 줍니다.\n",
      "남은 커피의 양은 9개입니다.\n",
      "돈을 받았으니 커피를 줍니다.\n",
      "남은 커피의 양은 8개입니다.\n",
      "돈을 받았으니 커피를 줍니다.\n",
      "남은 커피의 양은 7개입니다.\n",
      "돈을 받았으니 커피를 줍니다.\n",
      "남은 커피의 양은 6개입니다.\n",
      "돈을 받았으니 커피를 줍니다.\n",
      "남은 커피의 양은 5개입니다.\n",
      "돈을 받았으니 커피를 줍니다.\n",
      "남은 커피의 양은 4개입니다.\n",
      "돈을 받았으니 커피를 줍니다.\n",
      "남은 커피의 양은 3개입니다.\n",
      "돈을 받았으니 커피를 줍니다.\n",
      "남은 커피의 양은 2개입니다.\n",
      "돈을 받았으니 커피를 줍니다.\n",
      "남은 커피의 양은 1개입니다.\n",
      "돈을 받았으니 커피를 줍니다.\n",
      "남은 커피의 양은 0개입니다.\n",
      "커피가 다 떨어졌습니다. 판매를 중지합니다.\n"
     ]
    }
   ],
   "source": [
    "coffee = 10\n",
    "money = 300\n",
    "while money:\n",
    "    print(\"돈을 받았으니 커피를 줍니다.\")\n",
    "    coffee -= 1\n",
    "    print(\"남은 커피의 양은 %d개입니다.\"%coffee)\n",
    "    if coffee == 0:\n",
    "        print(\"커피가 다 떨어졌습니다. 판매를 중지합니다.\")\n",
    "        break"
   ]
  },
  {
   "cell_type": "code",
   "execution_count": 30,
   "id": "84bcd8cc-bfcf-4cd9-9ab9-b5eb8aaf9e15",
   "metadata": {},
   "outputs": [
    {
     "name": "stdout",
     "output_type": "stream",
     "text": [
      "1번 학생은 합격입니다.\n",
      "2번 학생은 불합격입니다.\n",
      "3번 학생은 합격입니다.\n",
      "4번 학생은 불합격입니다.\n",
      "5번 학생은 합격입니다.\n"
     ]
    }
   ],
   "source": [
    "marks = [90, 25, 67, 45, 80] # 학생 5명의 시험 점수 리스트\n",
    "\n",
    "number = 0 # 학생에게 붙여 줄 번호\n",
    "for mark in marks:  # 90, 25, 67, 45, 80을 순서대로 mark에 대입\n",
    "    number = number + 1 \n",
    "    if mark >= 60:\n",
    "        print(\"%d번 학생은 합격입니다.\"%number)\n",
    "    else:\n",
    "        print(\"%d번 학생은 불합격입니다.\"%number)\n"
   ]
  },
  {
   "cell_type": "markdown",
   "id": "7c72bfae-ca59-47a9-8b97-c30dea21ba21",
   "metadata": {},
   "source": [
    "# 리스트와 딕셔너리 사용하기"
   ]
  },
  {
   "cell_type": "code",
   "execution_count": 18,
   "id": "aa8b92a6-b846-4e85-b5b1-dc6c1a5222be",
   "metadata": {},
   "outputs": [
    {
     "name": "stdout",
     "output_type": "stream",
     "text": [
      "[[10, 2], [3, 4]]\n"
     ]
    }
   ],
   "source": [
    "a = [[1,2] , [3,4]]\n",
    "b = a.copy() # 얕은 복사\n",
    "a[0][0] = 10\n",
    "print(b) # b도 영향을 받음"
   ]
  },
  {
   "cell_type": "code",
   "execution_count": 32,
   "id": "bdbfd3b8-7208-4d49-9df7-ccb3b71147d4",
   "metadata": {},
   "outputs": [
    {
     "name": "stdout",
     "output_type": "stream",
     "text": [
      "{1: 'a', 2: 'b'}\n"
     ]
    }
   ],
   "source": [
    "a = {1:'a'}\n",
    "a[2] = 'b' \n",
    "print(a)"
   ]
  }
 ],
 "metadata": {
  "kernelspec": {
   "display_name": "Python [conda env:base] *",
   "language": "python",
   "name": "conda-base-py"
  },
  "language_info": {
   "codemirror_mode": {
    "name": "ipython",
    "version": 3
   },
   "file_extension": ".py",
   "mimetype": "text/x-python",
   "name": "python",
   "nbconvert_exporter": "python",
   "pygments_lexer": "ipython3",
   "version": "3.12.3"
  }
 },
 "nbformat": 4,
 "nbformat_minor": 5
}
