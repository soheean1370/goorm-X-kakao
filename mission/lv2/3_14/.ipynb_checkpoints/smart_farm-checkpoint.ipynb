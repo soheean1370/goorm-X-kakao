{
 "cells": [
  {
   "cell_type": "code",
   "execution_count": 2,
   "id": "b43cdbfe-18b1-4ac4-b344-9d2d2f7eacbc",
   "metadata": {},
   "outputs": [],
   "source": [
    "import numpy as np\n",
    "\n",
    "# 30일 동안의 센서 데이터\n",
    "temperature = np.random.randint(15 , 35,(30,))\n",
    "humidity = np.random.randint(10,50,(30,))\n",
    "soil_moisture = np.random.randint(5, 40, (30,))"
   ]
  },
  {
   "cell_type": "code",
   "execution_count": 16,
   "id": "ee165aef-b782-4e74-805c-0d507c85ab51",
   "metadata": {},
   "outputs": [],
   "source": [
    "# 모든 값이 25 이상인 날 찾기\n",
    "optimal_conditions = (temperature >= 25) & (humidity >= 25) & (soil_moisture >= 25)\n",
    "optimal_days = np.where(optimal_conditions)[0]"
   ]
  },
  {
   "cell_type": "code",
   "execution_count": 18,
   "id": "542d8c98-6802-4bd5-8521-225bd24de1cf",
   "metadata": {},
   "outputs": [
    {
     "name": "stdout",
     "output_type": "stream",
     "text": [
      "최적 조건을 만족하는 날짜(인덱스): [ 3  9 10 11 19 20 23 29]\n"
     ]
    }
   ],
   "source": [
    "print(\"최적 조건을 만족하는 날짜(인덱스):\", optimal_days)"
   ]
  },
  {
   "cell_type": "code",
   "execution_count": 22,
   "id": "a49cb01f-fe29-49d7-a9ed-35e3fd8f3021",
   "metadata": {},
   "outputs": [
    {
     "name": "stdout",
     "output_type": "stream",
     "text": [
      "날짜 3: 온도 32°C, 습도 31%, 토양 수분 25%\n",
      "날짜 9: 온도 32°C, 습도 35%, 토양 수분 34%\n",
      "날짜 10: 온도 28°C, 습도 25%, 토양 수분 32%\n",
      "날짜 11: 온도 28°C, 습도 29%, 토양 수분 33%\n",
      "날짜 19: 온도 32°C, 습도 26%, 토양 수분 37%\n",
      "날짜 20: 온도 29°C, 습도 36%, 토양 수분 39%\n",
      "날짜 23: 온도 25°C, 습도 49%, 토양 수분 26%\n",
      "날짜 29: 온도 28°C, 습도 35%, 토양 수분 38%\n"
     ]
    }
   ],
   "source": [
    "for i in optimal_days:\n",
    "    print(f\"날짜 {i}: 온도 {temperature[i]}°C, 습도 {humidity[i]}%, 토양 수분 {soil_moisture[i]}%\")"
   ]
  }
 ],
 "metadata": {
  "kernelspec": {
   "display_name": "Python [conda env:base] *",
   "language": "python",
   "name": "conda-base-py"
  },
  "language_info": {
   "codemirror_mode": {
    "name": "ipython",
    "version": 3
   },
   "file_extension": ".py",
   "mimetype": "text/x-python",
   "name": "python",
   "nbconvert_exporter": "python",
   "pygments_lexer": "ipython3",
   "version": "3.12.3"
  }
 },
 "nbformat": 4,
 "nbformat_minor": 5
}
