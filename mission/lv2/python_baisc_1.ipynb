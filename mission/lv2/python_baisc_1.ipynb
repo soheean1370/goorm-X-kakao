{
 "cells": [
  {
   "cell_type": "code",
   "execution_count": 22,
   "id": "9dfe692b-43b9-46c9-9c2c-2156694551b0",
   "metadata": {},
   "outputs": [
    {
     "name": "stdout",
     "output_type": "stream",
     "text": [
      "안소희의 나이는 23세이고 키는160.22cm 입니다\n"
     ]
    }
   ],
   "source": [
    "# 문자열 포매팅 연습\n",
    "name = \"안소희\"\n",
    "age = 23\n",
    "height = 160.22222\n",
    "\n",
    "print(f\"{name}의 나이는 {age}세이고 키는{height:.2f}cm 입니다\")"
   ]
  },
  {
   "cell_type": "code",
   "execution_count": 48,
   "id": "fd683360-22ae-4b04-bc15-28a53abefa28",
   "metadata": {},
   "outputs": [
    {
     "name": "stdout",
     "output_type": "stream",
     "text": [
      "hello\n",
      "['hello', 'world']\n",
      "hello everyone\n"
     ]
    }
   ],
   "source": [
    "# 문자열 다루기 연습\n",
    "mystring = \"hello world\"\n",
    "new = \"everyone\"\n",
    "print(mystring[:5])\n",
    "print(mystring.split())\n",
    "print(mystring.split()[0] + \" \"+ new)"
   ]
  },
  {
   "cell_type": "code",
   "execution_count": 64,
   "id": "f73e17cc-896f-4e6d-823a-42906a50f3b0",
   "metadata": {},
   "outputs": [
    {
     "name": "stdout",
     "output_type": "stream",
     "text": [
      "[0, 1, 2, 3, 4, 5, 6, 7, 8, 9]\n",
      "[0, 10, 20, 30, 40, 50, 60, 70, 80, 90]\n"
     ]
    }
   ],
   "source": [
    " # 리스트 컴프리헨션 사용하기\n",
    "lst = [i for i in range(10)]\n",
    "print(lst)\n",
    "new_lst = [i * 10 for i in range(10)]\n",
    "print(new_lst)"
   ]
  },
  {
   "cell_type": "code",
   "execution_count": 110,
   "id": "1e30e7e2-9753-42ba-8cbc-bc7c3e27ef75",
   "metadata": {},
   "outputs": [
    {
     "name": "stdout",
     "output_type": "stream",
     "text": [
      "[23, 20, 21, 30, 29, 40]\n",
      "[23, 25, 20, 21, 30, 29, 40]\n",
      "[23, 25, 20, 30, 29, 40]\n",
      "[23, 25, 30, 29, 40]\n",
      "[529, 625, 900, 841, 1600]\n",
      "100\n",
      "{'안소희': 100, '정의찬': 90, '정새움': 80, '황병주': 77, '김하나': 99}\n",
      "{'안소희': 100, '정의찬': 90, '정새움': 80, '김하나': 99}\n"
     ]
    }
   ],
   "source": [
    "# 리스트와 딕셔너리 사용하기\n",
    "lst = [23, 20, 21, 30, 29]\n",
    "lst.append(40)\n",
    "print(lst)\n",
    "lst.insert(1, 25)\n",
    "print(lst)\n",
    "lst.remove(21)  \n",
    "print(lst)\n",
    "삭제된_요소 = lst.pop(2) \n",
    "print(lst)\n",
    "제곱_리스트 = [x**2 for x in lst]\n",
    "print(제곱_리스트)\n",
    "\n",
    "student_scores ={\n",
    "    \"안소희\" : 100,\n",
    "    \"정의찬\" : 90,\n",
    "    \"정새움\" : 80,\n",
    "    \"황병주\" : 77,\n",
    "}\n",
    "\n",
    "sohee_score = student_scores[\"안소희\"]\n",
    "print(sohee_score)\n",
    "student_scores[\"김하나\"] = 99\n",
    "print(student_scores)\n",
    "pass_student = {name: score for name, score in student_scores.items() if score >= 80}\n",
    "print(pass_student)"
   ]
  },
  {
   "cell_type": "code",
   "execution_count": null,
   "id": "7fecd0f9-fc7c-476c-8ce3-8238e4c59e7b",
   "metadata": {},
   "outputs": [],
   "source": []
  }
 ],
 "metadata": {
  "kernelspec": {
   "display_name": "Python [conda env:base] *",
   "language": "python",
   "name": "conda-base-py"
  },
  "language_info": {
   "codemirror_mode": {
    "name": "ipython",
    "version": 3
   },
   "file_extension": ".py",
   "mimetype": "text/x-python",
   "name": "python",
   "nbconvert_exporter": "python",
   "pygments_lexer": "ipython3",
   "version": "3.12.3"
  }
 },
 "nbformat": 4,
 "nbformat_minor": 5
}
