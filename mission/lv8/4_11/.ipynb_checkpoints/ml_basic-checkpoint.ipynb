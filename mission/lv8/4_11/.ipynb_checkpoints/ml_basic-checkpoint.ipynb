{
 "cells": [
  {
   "cell_type": "markdown",
   "id": "51549a4c-b146-448e-8f17-7c40e33dfa83",
   "metadata": {},
   "source": [
    "# 머신러닝 개념잡기 문제지 (초급)"
   ]
  },
  {
   "cell_type": "markdown",
   "id": "f5ae515f-841b-4a8f-8e18-ca1e4fd32246",
   "metadata": {},
   "source": [
    "## 📂 1. 인공지능 및 머신러닝 기본 개념\n",
    "### Q1. 다음 중 인공지능(AI), 머신러닝(ML), 딥러닝(DL)의 관계를 올바르게 설명한 것은?\n",
    "1. AI ⊂ ML ⊂ DL\n",
    "2. DL ⊂ ML ⊂ AI\n",
    "3. ML ⊂ AI ⊂ DL\n",
    "4. AI = ML = DL\n"
   ]
  },
  {
   "cell_type": "markdown",
   "id": "1e8071da-9b95-49fc-9946-268b0e23204e",
   "metadata": {},
   "source": [
    "정답: 2\n",
    "- 딥러닝은 머신러닝 안에, 머신러닝은 인공지능 안에 포함됨"
   ]
  },
  {
   "cell_type": "markdown",
   "id": "426e690f-bdb4-4b29-bd3a-bdc061ae6371",
   "metadata": {},
   "source": [
    "### Q2. 다음 중 지도학습(Supervised Learning)의 대표적인 예시는?\n",
    "1. 뉴스 기사 자동 분류\n",
    "2. 웹 페이지 클러스터링\n",
    "3. 강화 학습 게임 에이전트\n",
    "4. 이미지 생성 모델"
   ]
  },
  {
   "cell_type": "markdown",
   "id": "5fa2312c-8b60-4ad1-bb69-cad215e315f2",
   "metadata": {},
   "source": [
    "정답: 1\n",
    "- 정답이 있는 데이터를 학습하므로 지도학습"
   ]
  },
  {
   "cell_type": "markdown",
   "id": "8677cb23-37b8-40df-aee5-e6f944517114",
   "metadata": {},
   "source": [
    "### Q3. \"비지도 학습은 입력 데이터에 정답 레이블이 포함되어 있다.\"\n",
    "(True / False)"
   ]
  },
  {
   "cell_type": "markdown",
   "id": "d3da4c14-105a-49d2-a026-f6e6be33f678",
   "metadata": {},
   "source": [
    "정답: False\n",
    "- 비지도학습은 정답 없이 학습함"
   ]
  },
  {
   "cell_type": "markdown",
   "id": "a6ec4183-e09e-4f90-a71d-40b25bb183df",
   "metadata": {},
   "source": [
    "### Q4. 다음 용어와 설명을 연결하세요.\n",
    "\n",
    "**용어**\n",
    "- A. 지도 학습\n",
    "- B. 비지도 학습\n",
    "- C. 강화 학습\n",
    "\n",
    "**설명**\n",
    "1. 보상 신호를 통해 학습\n",
    "2. 라벨 있는 데이터를 사용하여 예측 모델 생성\n",
    "3. 군집화나 차원 축소 등에 사용됨"
   ]
  },
  {
   "cell_type": "markdown",
   "id": "a7898a9a-3364-48dc-b233-c88a1e2c18b0",
   "metadata": {},
   "source": [
    "**정답**\n",
    "- A. 지도 학습 - 2. 라벨 있는 데이터를 사용하여 예측 모델 생성\n",
    "- B. 비지도 학습 - 3. 군집화나 차원 축소 등에 사용됨\n",
    "- C. 강화 학습 - 1. 보상 신호를 통해 학습"
   ]
  },
  {
   "cell_type": "markdown",
   "id": "c80a42e8-e75f-4642-ac7e-5af3ba1431a0",
   "metadata": {},
   "source": [
    "### Q5. 데이터 사이언스와 머신러닝의 차이를 간단히 설명하시오. (서술형)"
   ]
  },
  {
   "cell_type": "markdown",
   "id": "91dea2df-537a-4eae-9cbc-972fae7d7677",
   "metadata": {},
   "source": [
    "정답 : 데이터 사이언스는 데이터 분석 전체 과정, 머신러닝은 그 중 예측 모델 만드는 부분이다"
   ]
  },
  {
   "cell_type": "markdown",
   "id": "5a3e75c6-9ede-453b-8f86-d268d2b99e66",
   "metadata": {},
   "source": [
    "## 📂 2. 파이썬 활용 개념 문제\n",
    "### Q6. 다음은 지도학습을 위한 데이터셋입니다. 레이블이 있는지 판단하고, 어떤 학습 유형인지 말하시오.\n",
    "```python\n",
    "data = [\n",
    "    {\"날씨\": \"맑음\", \"기온\": \"더움\", \"운동\": \"O\"},\n",
    "    {\"날씨\": \"비\", \"기온\": \"추움\", \"운동\": \"X\"},\n",
    "    {\"날씨\": \"흐림\", \"기온\": \"더움\", \"운동\": \"O\"},\n",
    "]\n",
    "```"
   ]
  },
  {
   "cell_type": "markdown",
   "id": "b6daae60-57c8-4cce-ba20-2f0f7dc54434",
   "metadata": {},
   "source": [
    "정답: 지도학습\n",
    "- '운동' 이라는 정답 레이블이 있다"
   ]
  },
  {
   "cell_type": "markdown",
   "id": "792bc79a-78e6-416e-9724-61f4d1093420",
   "metadata": {},
   "source": [
    "# 📂 3. 빅데이터 개념 문제\n",
    "## Q7. 다음 중 빅데이터(Big Data)의 3V 요소에 해당하지 않는 것은?\n",
    "1. Volume\n",
    "2. Velocity\n",
    "3. Vision\n",
    "4. Variety"
   ]
  },
  {
   "cell_type": "markdown",
   "id": "bad8b111-3361-44c0-9f2e-a3de7279e5c7",
   "metadata": {},
   "source": [
    "정답: 3\n",
    "- 3v는 양,속도, 다양성"
   ]
  },
  {
   "cell_type": "markdown",
   "id": "9b0c0888-40dc-448c-a2c8-4a6e85abf927",
   "metadata": {},
   "source": [
    "## 📂 4. 강화학습 개념 문제\n",
    "### Q8. 다음 중 강화학습 환경에 해당하는 것은?\n",
    "1. 의사가 환자의 병명을 진단\n",
    "2. 이메일을 스팸과 일반으로 분류\n",
    "3. 로봇이 미로를 탈출하며 보상을 받음\n",
    "4. 사진에서 사람 얼굴을 추출"
   ]
  },
  {
   "cell_type": "markdown",
   "id": "e80d1de1-9bcb-4ce0-bbd1-3419d65ee579",
   "metadata": {},
   "source": [
    "정답: 3\n",
    "- 강화학습은 보상을 받으며 학습하는 것"
   ]
  },
  {
   "cell_type": "markdown",
   "id": "da0580ac-85b9-4fbb-86c8-612f5f1710b1",
   "metadata": {},
   "source": [
    "## 📂 5. 머신러닝 워크플로우 문제\n",
    "### Q9. 머신러닝 워크플로우에서 다음 단계 중 가장 먼저 수행해야 하는 단계는?\n",
    "1. 모델 학습\n",
    "2. 데이터 전처리\n",
    "3. 문제 정의\n",
    "4. 하이퍼파라미터 튜닝"
   ]
  },
  {
   "cell_type": "markdown",
   "id": "9a2fdac2-78d5-4c10-9cb0-1e944ccce13f",
   "metadata": {},
   "source": [
    "정답: 3\n",
    "- 뭘 예측할지 먼저 정해야 한다"
   ]
  },
  {
   "cell_type": "markdown",
   "id": "ce5b3854-f79d-4409-a115-52bb212412d1",
   "metadata": {},
   "source": [
    "### Q10. 다음 머신러닝 워크플로우 단계를 올바른 순서로 나열하세요.\n",
    "- A. 모델 학습\n",
    "- B. 문제 정의\n",
    "- C. 모델 평가\n",
    "- D. 데이터 수집\n",
    "- E. 데이터 전처리\n"
   ]
  },
  {
   "cell_type": "markdown",
   "id": "e5a34978-bef1-4f10-8abd-987e46e29af0",
   "metadata": {},
   "source": [
    "정답: B-D-E-A-C"
   ]
  },
  {
   "cell_type": "markdown",
   "id": "3a961a8f-94be-43ad-86f9-9ea28ac5d5dd",
   "metadata": {},
   "source": [
    "### Q11. \"데이터가 깨끗하면 전처리 단계는 생략해도 된다.\"\n",
    "(True / False)"
   ]
  },
  {
   "cell_type": "markdown",
   "id": "4356cc89-f484-45ed-a3af-60cb134d5984",
   "metadata": {},
   "source": [
    "정답: False\n",
    "- 데이터가 깨끗해도 전처리 과정은 꼭 필요하다"
   ]
  },
  {
   "cell_type": "markdown",
   "id": "502f1e68-e5bf-40b7-907d-cd07e4f70a43",
   "metadata": {},
   "source": [
    "### Q12. 머신러닝 워크플로우의 단계와 설명을 연결하세요.\n",
    "**단계**\n",
    "- A. 모델 학습\n",
    "- B. 모델 평가\n",
    "- C. 데이터 전처리\n",
    "  \n",
    "**설명**\n",
    "1. 학습 알고리즘에 데이터를 입력하여 패턴 학습\n",
    "2. 테스트 데이터를 통해 성능을 측정함\n",
    "3. 결측치 처리, 정규화 등을 수행함\n"
   ]
  },
  {
   "cell_type": "markdown",
   "id": "422f60c2-b083-4392-946b-777d0042927d",
   "metadata": {},
   "source": [
    "**정답**\n",
    "- A. 모델 학습 - 1. 학습 알고리즘에 데이터를 입력하여 패턴 학습\n",
    "- B. 모델 평가 - 2. 테스트 데이터를 통해 성능을 측정함\n",
    "- C. 데이터 전처리  - 3. 결측치 처리, 정규화 등을 수행함"
   ]
  },
  {
   "cell_type": "markdown",
   "id": "706169bf-98a3-4c35-9f63-6e4a189e9405",
   "metadata": {},
   "source": [
    "### Q13. 모델 학습 이후 평가 단계가 필요한 이유를 간단히 서술하시오."
   ]
  },
  {
   "cell_type": "markdown",
   "id": "d4cf1fee-17cb-4093-b30c-c66a1b557e74",
   "metadata": {},
   "source": [
    "정답: 훈련 데이터에서 성능은 높지만 검증 데이터에서 낮다면, 과적합일 수 도 있다. 이를 막기 위해 훈련 성능을 조금 낮추더라도 검증 성능과 균형을 맞추는것이 중요하다"
   ]
  },
  {
   "cell_type": "markdown",
   "id": "a5dc97f0-fc2a-4433-84a7-7abaac28c615",
   "metadata": {},
   "source": [
    "### Q14. [실생활 시나리오] 다음 쇼핑몰 예측 문제에 대한 머신러닝 워크플로우 순서를 나열하세요.\n",
    "시나리오:\n",
    "한 쇼핑몰은 고객의 구매 이력을 바탕으로 \"다음에 무엇을 살 것인지\" 예측하고 싶다.\n",
    "\n",
    "1. 먼저 문제를 정의한다.\n",
    "2. 고객 구매 데이터를 수집한다.\n",
    "3. 결측치를 채우고 범주형 데이터를 숫자로 바꾼다.\n",
    "4. 데이터를 훈련/테스트로 나누고 모델을 학습한다.\n",
    "5. 테스트 데이터를 사용해 성능을 측정한다.\n",
    "6. 성능이 낮으면 모델과 파라미터를 수정한다"
   ]
  },
  {
   "cell_type": "markdown",
   "id": "b119c5db-b878-4c81-b9a6-ec300b577c28",
   "metadata": {},
   "source": [
    "정답: 1-2-3-4-5-6"
   ]
  }
 ],
 "metadata": {
  "kernelspec": {
   "display_name": "Python [conda env:base] *",
   "language": "python",
   "name": "conda-base-py"
  },
  "language_info": {
   "codemirror_mode": {
    "name": "ipython",
    "version": 3
   },
   "file_extension": ".py",
   "mimetype": "text/x-python",
   "name": "python",
   "nbconvert_exporter": "python",
   "pygments_lexer": "ipython3",
   "version": "3.12.3"
  }
 },
 "nbformat": 4,
 "nbformat_minor": 5
}
