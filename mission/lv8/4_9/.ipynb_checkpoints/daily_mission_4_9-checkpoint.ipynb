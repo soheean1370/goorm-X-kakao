{
 "cells": [
  {
   "cell_type": "markdown",
   "metadata": {},
   "source": [
    "# 🔍 배열 기반 검색 알고리즘 문제 세트\n",
    "본 노트북은 인공지능을 위한 알고리즘 및 자료구조 수업의 **기초 검색 알고리즘 실습**을 위해 작성되었습니다.\n",
    "다음 문제들을 직접 해결해보며 선형 검색, 이진 검색, 해시 검색의 원리를 익혀보세요."
   ]
  },
  {
   "cell_type": "markdown",
   "metadata": {},
   "source": [
    "## ✅ 문제 1. 선형 검색 구현\n",
    "**설명**: 주어진 정수 배열에서 특정 값을 선형 검색(linear search) 방식으로 찾는 함수를 작성하세요.  \n",
    "- 입력: 정수 배열 `arr`과 정수 `target`  \n",
    "- 출력: `target`이 존재하면 인덱스, 존재하지 않으면 `-1` 반환\n",
    "```python\n",
    "def linear_search(arr: list[int], target: int) -> int:\n",
    "    pass  # 여기에 구현\n",
    "```\n",
    "**예시**\n",
    "```python\n",
    ">>> linear_search([3, 5, 2, 9], 5)\n",
    "1\n",
    ">>> linear_search([3, 5, 2, 9], 7)\n",
    "-1\n",
    "```"
   ]
  },
  {
   "cell_type": "markdown",
   "metadata": {},
   "source": [
    "## ✅ 문제 2. 이진 검색 구현\n",
    "**설명**: 정렬된 배열에서 이진 검색(binary search)을 구현하세요.  \n",
    "- 입력: 오름차순 정렬된 정수 배열 `arr`과 정수 `target`\n",
    "- 출력: `target`의 인덱스, 없으면 `-1`\n",
    "```python\n",
    "def binary_search(arr: list[int], target: int) -> int:\n",
    "    pass  # 여기에 구현\n",
    "```\n",
    "**예시**\n",
    "```python\n",
    ">>> binary_search([1, 3, 5, 7, 9], 7)\n",
    "3\n",
    ">>> binary_search([1, 3, 5, 7, 9], 4)\n",
    "-1\n",
    "```"
   ]
  },
  {
   "cell_type": "markdown",
   "metadata": {},
   "source": [
    "## ✅ 문제 3. 체이닝 해시맵 구현 (기초 버전)\n",
    "**설명**: 해시 충돌을 체이닝(chaining) 방식으로 해결하는 해시맵을 클래스 형태로 구현하세요.\n",
    "- 제공 기능:\n",
    "  - `put(key, value)`: 키-값 삽입\n",
    "  - `get(key)`: 키로 값 검색\n",
    "  - `remove(key)`: 키 삭제\n",
    "```python\n",
    "class ChainedHashMap:\n",
    "    def __init__(self, size: int = 10):\n",
    "        pass\n",
    "    def put(self, key: str, value: int) -> None:\n",
    "        pass\n",
    "    def get(self, key: str) -> int | None:\n",
    "        pass\n",
    "    def remove(self, key: str) -> None:\n",
    "        pass\n",
    "```"
   ]
  },
  {
   "cell_type": "markdown",
   "metadata": {},
   "source": [
    "## ✅ 문제 4. 해시 충돌 시나리오 실습\n",
    "**설명**: 같은 해시값이 나오도록 `size=1`인 해시맵을 만들고, 여러 key를 넣고 체이닝 충돌 상황을 관찰하세요.\n",
    "```python\n",
    "# 직접 put 여러 번 실행 후 내부 구조를 출력해보세요.\n",
    "```"
   ]
  },
  {
   "cell_type": "markdown",
   "metadata": {},
   "source": [
    "## ✅ 문제 5. 검색 알고리즘 비교 실험\n",
    "**설명**: 10만 개의 랜덤 숫자 배열을 만들어 선형 검색과 이진 검색의 속도 차이를 실험하세요.  \n",
    "- `random.randint(0, 1_000_000)`으로 배열 생성\n",
    "- 타이밍 측정에 `time` 모듈 사용\n",
    "```python\n",
    "# 실험 결과를 print로 비교해보세요.\n",
    "```"
   ]
  },
  {
   "cell_type": "markdown",
   "id": "86bca655",
   "metadata": {},
   "source": [
    "## ✅ 문제 6. 체인드 해시의 시간복잡도 분석\n",
    "**설명**: 아래 각 연산에 대해 평균적인 경우와 최악의 경우의 시간복잡도 Big-O를 분석해보세요.\n",
    "1. `put(key, value)` – 키-값 추가\n",
    "2. `get(key)` – 키를 이용한 검색\n",
    "3. `remove(key)` – 키에 해당하는 값 삭제\n",
    "\n",
    "**힌트**: 해시 테이블의 크기와 충돌 수에 따라 성능이 어떻게 달라질까요?\n",
    "\n",
    "**답안 예시**:\n",
    "```python\n",
    "# 평균 시간복잡도:\n",
    "# put: O(1), get: O(1), remove: O(1)\n",
    "\n",
    "# 최악 시간복잡도:\n",
    "# put: O(n), get: O(n), remove: O(n)\n",
    "```\n",
    "※ `n`은 테이블 전체에 저장된 키의 수입니다."
   ]
  },
  {
   "cell_type": "markdown",
   "metadata": {},
   "source": [
    "---\n",
    "### 🎯 보너스 과제\n",
    "1. 해시맵에 학생 이름(key)과 점수(value)를 저장하고, 이름으로 검색 및 삭제 기능을 구현하시오.\n",
    "2. 이진 검색은 정렬된 배열에서만 동작한다. 정렬되지 않은 배열에서 이진 검색을 사용할 경우 어떤 문제가 발생하는지 예를 들어 설명하시오."
   ]
  },
  {
   "cell_type": "code",
   "execution_count": null,
   "id": "75676bae",
   "metadata": {
    "vscode": {
     "languageId": "plaintext"
    }
   },
   "outputs": [],
   "source": []
  }
 ],
 "metadata": {
  "kernelspec": {
   "display_name": "Python 3",
   "language": "python",
   "name": "python3"
  },
  "language_info": {
   "name": "python",
   "version": "3.10"
  }
 },
 "nbformat": 4,
 "nbformat_minor": 5
}
