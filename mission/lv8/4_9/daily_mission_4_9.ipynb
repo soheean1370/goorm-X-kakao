{
 "cells": [
  {
   "cell_type": "markdown",
   "id": "da595e24",
   "metadata": {},
   "source": [
    "# 🔍 배열 기반 검색 알고리즘 문제 세트\n",
    "본 노트북은 인공지능을 위한 알고리즘 및 자료구조 수업의 **기초 검색 알고리즘 실습**을 위해 작성되었습니다.\n",
    "다음 문제들을 직접 해결해보며 선형 검색, 이진 검색, 해시 검색의 원리를 익혀보세요."
   ]
  },
  {
   "cell_type": "markdown",
   "id": "78a586db",
   "metadata": {},
   "source": [
    "## ✅ 문제 1. 선형 검색 구현\n",
    "**설명**: 주어진 정수 배열에서 특정 값을 선형 검색(linear search) 방식으로 찾는 함수를 작성하세요.  \n",
    "- 입력: 정수 배열 `arr`과 정수 `target`  \n",
    "- 출력: `target`이 존재하면 인덱스, 존재하지 않으면 `-1` 반환\n",
    "```python\n",
    "def linear_search(arr: list[int], target: int) -> int:\n",
    "    pass  # 여기에 구현\n",
    "```\n",
    "**예시**\n",
    "```python\n",
    ">>> linear_search([3, 5, 2, 9], 5)\n",
    "1\n",
    ">>> linear_search([3, 5, 2, 9], 7)\n",
    "-1\n",
    "```"
   ]
  },
  {
   "cell_type": "code",
   "execution_count": 26,
   "id": "0fa1b7ba-34f4-45af-9aa1-559913c89c2b",
   "metadata": {},
   "outputs": [
    {
     "name": "stdout",
     "output_type": "stream",
     "text": [
      "1\n",
      "-1\n"
     ]
    }
   ],
   "source": [
    "def linear_search(arr: list[int], target: int) -> int:\n",
    "    for i, value in enumerate(arr):\n",
    "        if value == target:\n",
    "            return i\n",
    "    return -1\n",
    "\n",
    "print(linear_search([3, 5, 2, 9], 5))\n",
    "print(linear_search([3, 5, 2, 9], 7))"
   ]
  },
  {
   "cell_type": "markdown",
   "id": "80357c46",
   "metadata": {},
   "source": [
    "## ✅ 문제 2. 이진 검색 구현\n",
    "**설명**: 정렬된 배열에서 이진 검색(binary search)을 구현하세요.  \n",
    "- 입력: 오름차순 정렬된 정수 배열 `arr`과 정수 `target`\n",
    "- 출력: `target`의 인덱스, 없으면 `-1`\n",
    "```python\n",
    "def binary_search(arr: list[int], target: int) -> int:\n",
    "    pass  # 여기에 구현\n",
    "```\n",
    "**예시**\n",
    "```python\n",
    ">>> binary_search([1, 3, 5, 7, 9], 7)\n",
    "3\n",
    ">>> binary_search([1, 3, 5, 7, 9], 4)\n",
    "-1\n",
    "```"
   ]
  },
  {
   "cell_type": "code",
   "execution_count": 40,
   "id": "01535d6e-6d96-4dd7-a685-ce2885f052bf",
   "metadata": {},
   "outputs": [
    {
     "name": "stdout",
     "output_type": "stream",
     "text": [
      "3\n",
      "-1\n"
     ]
    }
   ],
   "source": [
    "def binary_search(arr: list[int], target: int)-> int:\n",
    "    start = 0\n",
    "    end = len(arr) -1\n",
    "\n",
    "    while start <= end:\n",
    "        mid = (start + end) // 2\n",
    "        if arr[mid] == target:\n",
    "            return mid\n",
    "        elif arr[mid] < target:\n",
    "            start = mid + 1\n",
    "        else:\n",
    "            end = mid - 1\n",
    "    return -1\n",
    "\n",
    "print(binary_search([1, 3, 5, 7, 9], 7))\n",
    "print(binary_search([1, 3, 5, 7, 9], 4))"
   ]
  },
  {
   "cell_type": "markdown",
   "id": "5a385298",
   "metadata": {},
   "source": [
    "## ✅ 문제 3. 체이닝 해시맵 구현 (기초 버전)\n",
    "**설명**: 해시 충돌을 체이닝(chaining) 방식으로 해결하는 해시맵을 클래스 형태로 구현하세요.\n",
    "- 제공 기능:\n",
    "  - `put(key, value)`: 키-값 삽입\n",
    "  - `get(key)`: 키로 값 검색\n",
    "  - `remove(key)`: 키 삭제\n",
    "```python\n",
    "class ChainedHashMap:\n",
    "    def __init__(self, size: int = 10):\n",
    "        pass\n",
    "    def put(self, key: str, value: int) -> None:\n",
    "        pass\n",
    "    def get(self, key: str) -> int | None:\n",
    "        pass\n",
    "    def remove(self, key: str) -> None:\n",
    "        pass\n",
    "```"
   ]
  },
  {
   "cell_type": "code",
   "execution_count": 18,
   "id": "0f298f12-bf38-4e99-8ea7-a1773b9dd92f",
   "metadata": {},
   "outputs": [],
   "source": [
    "import hashlib\n",
    "\n",
    "class Node:\n",
    "    def __init__(self, key: str, value: int, next=None):\n",
    "        self.key = key\n",
    "        self.value = value\n",
    "        self.next = next\n",
    "\n",
    "class ChainedHashMap:\n",
    "    def __init__(self, size: int = 10):\n",
    "        self.size = size\n",
    "        self.table = [None] * self.size\n",
    "\n",
    "    def put(self, key: str, value: int) -> None:\n",
    "        idx = int(hashlib.sha256(key.encode()).hexdigest(), 16) % self.size\n",
    "        node = self.table[idx]\n",
    "        while node:\n",
    "            if node.key == key:\n",
    "                node.value = value\n",
    "                return\n",
    "            node = node.next\n",
    "        self.table[idx] = Node(key, value, self.table[idx])\n",
    "\n",
    "    def get(self, key: str) -> int | None:\n",
    "        idx = int(hashlib.sha256(key.encode()).hexdigest(), 16) % self.size\n",
    "        node = self.table[idx]\n",
    "        while node:\n",
    "            if node.key == key:\n",
    "                return node.value\n",
    "            node = node.next\n",
    "        return None\n",
    "\n",
    "    def remove(self, key: str) -> None:\n",
    "        idx = int(hashlib.sha256(key.encode()).hexdigest(), 16) % self.size\n",
    "        node = self.table[idx]\n",
    "        prev = None\n",
    "        while node:\n",
    "            if node.key == key:\n",
    "                if prev is None:\n",
    "                    self.table[idx] = node.next\n",
    "                else:\n",
    "                    prev.next = node.next\n",
    "                return\n",
    "            prev = node\n",
    "            node = node.next\n"
   ]
  },
  {
   "cell_type": "markdown",
   "id": "b41a2d98",
   "metadata": {},
   "source": [
    "## ✅ 문제 4. 해시 충돌 시나리오 실습\n",
    "**설명**: 같은 해시값이 나오도록 `size=1`인 해시맵을 만들고, 여러 key를 넣고 체이닝 충돌 상황을 관찰하세요.\n",
    "```python\n",
    "# 직접 put 여러 번 실행 후 내부 구조를 출력해보세요.\n",
    "```"
   ]
  },
  {
   "cell_type": "code",
   "execution_count": 19,
   "id": "3b6309e0-4787-4bf2-a215-6e90e8568f47",
   "metadata": {},
   "outputs": [
    {
     "name": "stdout",
     "output_type": "stream",
     "text": [
      "새움: 22\n",
      "의찬: 25\n",
      "소희: 23\n"
     ]
    }
   ],
   "source": [
    "hash = ChainedHashMap(1)\n",
    "\n",
    "hash.put('소희', 23)\n",
    "hash.put('의찬', 25)\n",
    "hash.put('새움', 22)\n",
    "\n",
    "node = hash.table[0]\n",
    "while node:\n",
    "    print(f\"{node.key}: {node.value}\")\n",
    "    node = node.next"
   ]
  },
  {
   "cell_type": "markdown",
   "id": "19972193",
   "metadata": {},
   "source": [
    "## ✅ 문제 5. 검색 알고리즘 비교 실험\n",
    "**설명**: 10만 개의 랜덤 숫자 배열을 만들어 선형 검색과 이진 검색의 속도 차이를 실험하세요.  \n",
    "- `random.randint(0, 1_000_000)`으로 배열 생성\n",
    "- 타이밍 측정에 `time` 모듈 사용\n",
    "```python\n",
    "# 실험 결과를 print로 비교해보세요.\n",
    "```"
   ]
  },
  {
   "cell_type": "code",
   "execution_count": 31,
   "id": "7cfba0f6-7117-413e-ba2f-4f705bc2796e",
   "metadata": {},
   "outputs": [
    {
     "name": "stdout",
     "output_type": "stream",
     "text": [
      "Linear Search Time: 0.002625초\n",
      "Binary Search Time: 0.000000초\n"
     ]
    }
   ],
   "source": [
    "import random\n",
    "import time\n",
    "\n",
    "arr = [random.randint(0, 1_000_000) for _ in range(100_000)]\n",
    "target = random.choice(arr)\n",
    "\n",
    "start_time = time.time()\n",
    "linear_search(arr,target)\n",
    "linear_search_time = time.time() - start_time\n",
    "\n",
    "arr.sort()\n",
    "start_time = time.time()\n",
    "binary_search(arr,target)\n",
    "binary_search_time = time.time() - start_time\n",
    "\n",
    "print(f\"Linear Search Time: {linear_search_time:.6f}초\")\n",
    "print(f\"Binary Search Time: {binary_search_time:.6f}초\")"
   ]
  },
  {
   "cell_type": "markdown",
   "id": "86bca655",
   "metadata": {},
   "source": [
    "## ✅ 문제 6. 체인드 해시의 시간복잡도 분석\n",
    "**설명**: 아래 각 연산에 대해 평균적인 경우와 최악의 경우의 시간복잡도 Big-O를 분석해보세요.\n",
    "1. `put(key, value)` – 키-값 추가\n",
    "2. `get(key)` – 키를 이용한 검색\n",
    "3. `remove(key)` – 키에 해당하는 값 삭제\n",
    "\n",
    "**힌트**: 해시 테이블의 크기와 충돌 수에 따라 성능이 어떻게 달라질까요?\n",
    "\n",
    "**답안 예시**:\n",
    "```python\n",
    "# 평균 시간복잡도:\n",
    "# put: O(1), get: O(1), remove: O(1)\n",
    "\n",
    "# 최악 시간복잡도:\n",
    "# put: O(n), get: O(n), remove: O(n)\n",
    "```\n",
    "※ `n`은 테이블 전체에 저장된 키의 수입니다."
   ]
  },
  {
   "cell_type": "markdown",
   "id": "b9621db3-4b8f-4831-964d-baea3798b902",
   "metadata": {},
   "source": [
    "### 1. put(key, value)\n",
    "- 평균: 해시 함수 계산과 해당 인덱스의 버킷에 새 노드를 삽입하는 작업은 상수 시간에 이루어지므로 **O(1)**\n",
    "- 최악: 모든 키가 같은 버킷에 해시될 경우 중복 키 여부를 확인하기 위해 전체 체인을 탐색해야 하므로 **O(n)**\n",
    "  \n",
    "### 2. get(key)\n",
    "- 평균: 해시값에 해당하는 버킷의 연결 리스트를 탐색하면 되므로 평균적으로 **O(1)**\n",
    "- 최악: 모든 키가 하나의 버킷에 몰려 있을 경우 원하는 키를 찾기 위해 리스트 전체를 탐색해야 하므로 **O(n)**\n",
    "  \n",
    "### 3. remove(key)\n",
    "- 평균: 삭제할 키가 있는 노드를 빠르게 찾고 제거할 수 있어 상수 시간에 수행되므로 **O(1)**\n",
    "- 최악: 하나의 버킷에 키가 모두 모인 경우, 해당 키를 찾기 위해 리스트 전체를 탐색해야 하므로 **O(n)**"
   ]
  },
  {
   "cell_type": "markdown",
   "id": "9c1e0b65",
   "metadata": {},
   "source": [
    "---\n",
    "### 🎯 보너스 과제\n",
    "1. 해시맵에 학생 이름(key)과 점수(value)를 저장하고, 이름으로 검색 및 삭제 기능을 구현하시오.\n",
    "2. 이진 검색은 정렬된 배열에서만 동작한다. 정렬되지 않은 배열에서 이진 검색을 사용할 경우 어떤 문제가 발생하는지 예를 들어 설명하시오."
   ]
  },
  {
   "cell_type": "code",
   "execution_count": 36,
   "id": "75676bae",
   "metadata": {
    "vscode": {
     "languageId": "plaintext"
    }
   },
   "outputs": [
    {
     "name": "stdout",
     "output_type": "stream",
     "text": [
      "98\n",
      "None\n"
     ]
    }
   ],
   "source": [
    "# 이름으로 검색 및 삭제\n",
    "hash = ChainedHashMap()\n",
    "\n",
    "hash.put(\"안소희\", 98)\n",
    "hash.put(\"정의찬\", 92)\n",
    "hash.put(\"정새움\", 85)\n",
    "\n",
    "print(hash.get(\"안소희\"))\n",
    "\n",
    "hash.remove(\"정새움\")\n",
    "print(hash.get(\"정새움\"))"
   ]
  },
  {
   "cell_type": "code",
   "execution_count": 42,
   "id": "2cc352dc-3771-44e2-9702-833f88cbe079",
   "metadata": {},
   "outputs": [
    {
     "data": {
      "text/plain": [
       "-1"
      ]
     },
     "execution_count": 42,
     "metadata": {},
     "output_type": "execute_result"
    }
   ],
   "source": [
    "arr = [99, 3, 7, 2, 3, 1, 21]  # 정렬되지 않은 배열\n",
    "target = 1\n",
    "\n",
    "# 이진 검색 실행 (정상적으로는 작동하지 않음)\n",
    "binary_search(arr, target)  # 결과: 잘못된 위치 또는 -1\n",
    "\n",
    "# 이유: 이진 검색은 중간 값을 기준으로 \"왼쪽은 작고 오른쪽은 크다\"는 조건을 기반으로 하므로,\n",
    "# 정렬되지 않은 배열에서는 탐색 방향이 잘못되어 원하는 값을 찾지 못할 수 있음."
   ]
  },
  {
   "cell_type": "code",
   "execution_count": null,
   "id": "40c0a6b5-0ff1-4339-b727-ee4ab7754817",
   "metadata": {},
   "outputs": [],
   "source": []
  }
 ],
 "metadata": {
  "kernelspec": {
   "display_name": "Python [conda env:base] *",
   "language": "python",
   "name": "conda-base-py"
  },
  "language_info": {
   "codemirror_mode": {
    "name": "ipython",
    "version": 3
   },
   "file_extension": ".py",
   "mimetype": "text/x-python",
   "name": "python",
   "nbconvert_exporter": "python",
   "pygments_lexer": "ipython3",
   "version": "3.12.3"
  }
 },
 "nbformat": 4,
 "nbformat_minor": 5
}
