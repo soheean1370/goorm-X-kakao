{
 "cells": [
  {
   "cell_type": "markdown",
   "id": "86e719d5-c3e6-45b2-be3e-4ca7242ebda9",
   "metadata": {},
   "source": [
    "# 머신러닝 개념잡기"
   ]
  },
  {
   "cell_type": "markdown",
   "id": "3a9570d4-9514-490d-8ef2-a2201706cd9d",
   "metadata": {},
   "source": [
    "### ✅ 1. 머신러닝의 역사 – 🕰 AI 타임머신 문제\n",
    "\n",
    "**문제 1.**  \n",
    "당신은 ‘AI 타임머신’의 조종사입니다. 다음 중 **가장 먼저 일어난 사건**을 고르세요.\n",
    "\n",
    "A. ImageNet 대회에서 딥러닝(CNN)이 우승함  \n",
    "B. GAN(생성적 적대 신경망)이 논문으로 처음 발표됨  \n",
    "C. 아서 새뮤얼이 “머신러닝”이라는 용어를 사용함  \n",
    "D. 챗GPT와 같은 LLM이 GPT-3로 폭발적 주목을 받음  "
   ]
  },
  {
   "cell_type": "markdown",
   "id": "4ce2071b-d062-41bb-9702-f3543cbdc9e5",
   "metadata": {},
   "source": [
    "정답: **C**\n",
    "- 1959년에 머신러닝이라는 용어를 처음 사용했다"
   ]
  },
  {
   "cell_type": "markdown",
   "id": "2db572d7-41b7-4e77-8fa4-9a23d192e043",
   "metadata": {},
   "source": [
    "\n",
    "### ✅ 2. 머신러닝 vs 전통 프로그래밍 – ☕ 개발자 카페 문제 (수정됨)\n",
    "\n",
    "**문제 2.**  \n",
    "카페 사장님이 고객 추천 시스템을 만들고 싶어합니다. 다음 중 **머신러닝 방식**을 가장 잘 설명한 것은?\n",
    "\n",
    "A. 고객 데이터를 수집한 후, 추천 규칙을 사람이 직접 코딩한다.  \n",
    "B. 고객 유형을 경험 많은 바리스타의 직감으로 분류한다.  \n",
    "C. 추천 결과와 고객 데이터를 함께 모델에 주면, 모델이 규칙을 학습한다.  \n",
    "D. 상품 정보를 하드코딩하여 특정 메뉴에만 추천 기능을 넣는다.  "
   ]
  },
  {
   "cell_type": "markdown",
   "id": "da69cf20-dfad-4f0a-be75-f21fbb5cfb78",
   "metadata": {},
   "source": [
    "정답: **C**\n",
    "- 머신러닝은 데이터에서 패턴을 학습하여 규칙을 스스로 찾는다"
   ]
  },
  {
   "cell_type": "markdown",
   "id": "d37f28e4-aa0e-47bf-b5e4-827d966ac11e",
   "metadata": {},
   "source": [
    "### ✅ 3. 신경망의 부활 – 🔍 기술 발전 추리 문제\n",
    "\n",
    "**문제 3.**  \n",
    "신경망이 다시 주목받게 된 이유로 **가장 부적절한 설명**은?\n",
    "\n",
    "A. 과거보다 깊은 네트워크를 안정적으로 학습할 수 있게 되었기 때문  \n",
    "B. 데이터가 너무 부족해서 신경망이 유일한 대안이었기 때문  \n",
    "C. GPU 덕분에 대규모 연산이 가능해졌기 때문  \n",
    "D. TensorFlow, PyTorch 같은 프레임워크가 등장했기 때문  "
   ]
  },
  {
   "cell_type": "markdown",
   "id": "cec09066-f47f-4e54-b5af-593f01d894fa",
   "metadata": {},
   "source": [
    "정답: **B**\n",
    "- 신경망 부활의 주요 요인중 하나는 대규모 데이터의 가용성이었다"
   ]
  },
  {
   "cell_type": "markdown",
   "id": "08625f0c-8c65-404a-b8e9-ecacdceed2b6",
   "metadata": {},
   "source": [
    "### ✅ 4. 딥러닝의 도약 – 🥇 기록 경신 문제\n",
    "\n",
    "**문제 4.**  \n",
    "딥러닝이 비약적으로 발전한 계기로 **가장 큰 전환점이 된 사건**은?\n",
    "\n",
    "A. AlphaGo가 이세돌을 이김  \n",
    "B. GAN으로 유명인의 가짜 이미지 생성  \n",
    "C. GPT가 문장을 자연스럽게 생성  \n",
    "D. 2012년, CNN이 ImageNet에서 기존 방식보다 오류율을 대폭 낮춤"
   ]
  },
  {
   "cell_type": "markdown",
   "id": "cee26fc4-9f05-4143-94fa-c033a0e16092",
   "metadata": {},
   "source": [
    "정답: **D**\n",
    "- 기존방식보다 오류율을 크게 낮춘 사건이 딥러닝의 혁명이라고 평가된다"
   ]
  },
  {
   "cell_type": "markdown",
   "id": "3e345294-2cb0-4530-b23b-f0410ba1029c",
   "metadata": {},
   "source": [
    "### ✅ 5. 생성적 적대 신경망(GAN) – 🕵️ 위조범과 탐정\n",
    "\n",
    "**문제 5.**  \n",
    "GAN은 두 모델이 경쟁하며 학습합니다. 다음 중 가장 알맞은 비유는?\n",
    "\n",
    "A. 학생과 선생님이 수업하는 관계  \n",
    "B. 수의사와 강아지의 훈련 관계  \n",
    "C. 위조범(생성자)과 탐정(판별자)이 가짜/진짜를 겨루는 관계  \n",
    "D. 마법사와 기사 사이의 협력 관계  "
   ]
  },
  {
   "cell_type": "markdown",
   "id": "60e19731-ca4c-42cd-9c39-6caa682a4a21",
   "metadata": {},
   "source": [
    "정답: **C**\n",
    "-  GAN은 생성자와 판별자가 서로 경쟁하며 발전하는 구조이다"
   ]
  },
  {
   "cell_type": "markdown",
   "id": "1bec7fe8-498c-4e6b-bc5b-e0e93b60e669",
   "metadata": {},
   "source": [
    "### ✅ 6. 데이터셋 분할 전략 – 🧪 모의고사 샘플링\n",
    "\n",
    "**문제 6.**  \n",
    "학생들의 모의고사 점수를 머신러닝 모델에 사용합니다. **층화 샘플링**이란?\n",
    "\n",
    "A. 무작위로 데이터를 80% 학습용, 20% 테스트용으로 나눈다.  \n",
    "B. 점수가 높은 학생이 더 많이 포함되도록 나눈다.  \n",
    "C. 전체 점수 분포와 유사하게 학습/검증 세트를 구성한다.  \n",
    "D. 같은 학생 데이터를 여러 번 반복하여 훈련에 사용한다."
   ]
  },
  {
   "cell_type": "markdown",
   "id": "ac108e5a-0359-4da3-8fc6-feb9157073f7",
   "metadata": {},
   "source": [
    "정답: **C**\n",
    "- 층화 샘플링은 원본 데이터의 분포를 유지하며 데이터셋을 나누는 방법이다"
   ]
  },
  {
   "cell_type": "markdown",
   "id": "3e471893-0546-498e-9466-84cf14e9c5b1",
   "metadata": {},
   "source": [
    "### ✅ 7. 데이터셋 검증 기법 – 🔁 전략 구분\n",
    "\n",
    "**문제 7.**  \n",
    "다음 중 **소규모 데이터셋**에서 가장 흔히 사용하는 검증 전략은?\n",
    "\n",
    "A. 홀드아웃  \n",
    "B. 무작위 샘플링  \n",
    "C. 케이폴드 교차 검증  \n",
    "D. 생성 모델 기반 분할 "
   ]
  },
  {
   "cell_type": "markdown",
   "id": "1a728ccb-271f-46a4-8a8e-dc8809191b8f",
   "metadata": {},
   "source": [
    "정답: **C**\n",
    "- 데이터를 최대한 활용할 수 있는 k-fold 교차 검증이 적합하다"
   ]
  },
  {
   "cell_type": "markdown",
   "id": "27c92a46-595a-45dd-9327-1d4433d8baf1",
   "metadata": {},
   "source": [
    "### ✅ 8. 대규모 언어 모델 – GPT의 핵심 특징\n",
    "\n",
    "**문제 8.**  \n",
    "LLM(대규모 언어 모델)이 사람처럼 대화할 수 있는 가장 중요한 이유는?\n",
    "\n",
    "A. 사전처럼 지식을 저장해둠  \n",
    "B. 규칙 기반으로 언어를 생성  \n",
    "C. 수많은 파라미터와 데이터로 문맥을 이해하고 생성  \n",
    "D. 하드웨어 성능에 따라 행동이 바뀜  "
   ]
  },
  {
   "cell_type": "markdown",
   "id": "728961f9-0611-45c3-95ba-3ebc542e8856",
   "metadata": {},
   "source": [
    "정답: **C**\n",
    "- llm은 방대한 파라미터와 데이터로 학습하여 문맥을 이해하고 자연스러운 텍스트를 생성한다"
   ]
  },
  {
   "cell_type": "markdown",
   "id": "4cebe6d7-e47b-4378-8124-f5c7e9c9c3a6",
   "metadata": {},
   "source": [
    "### ✅ 9. 실습형 개념 문제 – 🧑‍💻 코드 사고력\n",
    "\n",
    "**문제 9.**  \n",
    "다음은 `StratifiedKFold` 사용 예입니다. 빈칸에 들어갈 올바른 코드는?\n",
    "\n",
    "```python\n",
    "from sklearn.model_selection import StratifiedKFold\n",
    "\n",
    "skf = StratifiedKFold(n_splits=5)\n",
    "for train_index, test_index in skf._____(X, y):\n",
    "    X_train, X_test = X[train_index], X[test_index]\n",
    "```\n",
    "\n",
    "A. divide  \n",
    "B. sample  \n",
    "C. shuffle  \n",
    "D. split"
   ]
  },
  {
   "cell_type": "markdown",
   "id": "400c8880-d1d9-4e9d-b4c9-556f7daab3ac",
   "metadata": {},
   "source": [
    "정답: **D**\n",
    "- StratifiedKFold 클래스의 데이터 분할 메서드는 split이다"
   ]
  }
 ],
 "metadata": {
  "kernelspec": {
   "display_name": "Python [conda env:base] *",
   "language": "python",
   "name": "conda-base-py"
  },
  "language_info": {
   "codemirror_mode": {
    "name": "ipython",
    "version": 3
   },
   "file_extension": ".py",
   "mimetype": "text/x-python",
   "name": "python",
   "nbconvert_exporter": "python",
   "pygments_lexer": "ipython3",
   "version": "3.12.3"
  }
 },
 "nbformat": 4,
 "nbformat_minor": 5
}
