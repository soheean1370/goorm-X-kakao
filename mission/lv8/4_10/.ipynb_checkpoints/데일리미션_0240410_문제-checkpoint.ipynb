{
 "cells": [
  {
   "cell_type": "markdown",
   "id": "411ca222",
   "metadata": {},
   "source": [
    "# 인공지능을 위한 알고리즘과 자료구조\n",
    "\n"
   ]
  },
  {
   "cell_type": "markdown",
   "id": "e6d4e8fe",
   "metadata": {},
   "source": [
    "## ✅ 문제 1. 간단한 해시 테이블 구현 (체이닝 방식)\n",
    "\n",
    "**설명**: 문자열 키를 입력받아 간단한 해시 함수(`ord(char) % N`)를 사용하고, 충돌 시 체이닝 방식으로 해결하는 해시 테이블을 구현하시오.\n",
    "\n",
    "**요구사항**:\n",
    "- 해시 크기는 10으로 고정\n",
    "- 문자열 삽입, 검색, 삭제 기능 구현\n",
    "- 체이닝은 리스트 사용\n",
    "\n",
    "**입력 예시**:\n",
    "```python\n",
    "table.insert(\"apple\")\n",
    "table.insert(\"banana\")\n",
    "table.insert(\"grape\")\n",
    "table.search(\"banana\")  # True\n",
    "table.delete(\"banana\")\n",
    "table.search(\"banana\")  # False\n",
    "```\n"
   ]
  },
  {
   "cell_type": "code",
   "execution_count": 27,
   "id": "e3c48dfe-a677-4fde-9018-3af8970fb03d",
   "metadata": {},
   "outputs": [
    {
     "data": {
      "text/plain": [
       "False"
      ]
     },
     "execution_count": 27,
     "metadata": {},
     "output_type": "execute_result"
    }
   ],
   "source": [
    "class SimpleChainedHashTable:\n",
    "    def __init__(self):\n",
    "        self.size = 10\n",
    "        self.table = [[] for _ in range(self.size)]\n",
    "        self.collisions = 0\n",
    "\n",
    "    def _hash(self, key: str) -> int:\n",
    "        return ord(key[0]) % self.size\n",
    "\n",
    "    def insert(self, key: str) -> None:\n",
    "        idx = self._hash(key)\n",
    "        if self.table[idx]:  # 기존에 데이터가 있다면 충돌\n",
    "            self.collisions += 1\n",
    "        if key not in self.table[idx]:\n",
    "            self.table[idx].append(key)\n",
    "\n",
    "    def search(self, key: str) -> bool:\n",
    "        idx = self._hash(key)\n",
    "        return key in self.table[idx]\n",
    "\n",
    "    def delete(self, key: str) -> None:\n",
    "        idx = self._hash(key)\n",
    "        if key in self.table[idx]:\n",
    "            self.table[idx].remove(key)\n",
    "\n",
    "    def display(self):\n",
    "        for i, bucket in enumerate(self.table):\n",
    "            print(f\"{i}: {bucket}\")\n",
    "\n",
    "table = SimpleChainedHashTable()\n",
    "\n",
    "table.insert(\"apple\")\n",
    "table.insert(\"banana\")\n",
    "table.insert(\"grape\")\n",
    "table.search(\"banana\")  # True\n",
    "table.delete(\"banana\")\n",
    "table.search(\"banana\")  # False"
   ]
  },
  {
   "cell_type": "markdown",
   "id": "8ea1373b",
   "metadata": {},
   "source": [
    "## ✅ 문제 2. 오픈 어드레싱 방식 해시 테이블 구현 (선형 탐사)\n",
    "\n",
    "**설명**: 체이닝 대신 오픈 어드레싱 방식으로 충돌을 해결하는 해시 테이블을 구현하시오.\n",
    "\n",
    "**요구사항**:\n",
    "- 해시 크기: 7\n",
    "- 해시 함수: `sum(ord(c) for c in key) % size`\n",
    "- 충돌 시 선형 탐사 사용\n",
    "- 삭제 시 tombstone 처리 없이 `None`으로만 비움\n"
   ]
  },
  {
   "cell_type": "code",
   "execution_count": 28,
   "id": "23ab7227-0710-40de-b326-41232e425494",
   "metadata": {},
   "outputs": [
    {
     "data": {
      "text/plain": [
       "False"
      ]
     },
     "execution_count": 28,
     "metadata": {},
     "output_type": "execute_result"
    }
   ],
   "source": [
    "class OpenAddressingHashTable:\n",
    "    def __init__(self):\n",
    "        self.size = 7\n",
    "        self.table = [None] * self.size\n",
    "        self.collisions = 0\n",
    "\n",
    "    def _hash(self, key: str) -> int:\n",
    "        return sum(ord(c) for c in key) % self.size\n",
    "\n",
    "    def insert(self, key: str) -> None:\n",
    "        idx = self._hash(key)\n",
    "        for i in range(self.size):\n",
    "            probe_idx = (idx + i) % self.size\n",
    "            if self.table[probe_idx] is None or self.table[probe_idx] == key:\n",
    "                self.table[probe_idx] = key\n",
    "                return\n",
    "            else:\n",
    "                self.collisions += 1\n",
    "        print(\"Hash table is full!\")\n",
    "\n",
    "    def search(self, key: str) -> bool:\n",
    "        idx = self._hash(key)\n",
    "        for i in range(self.size):\n",
    "            probe_idx = (idx + i) % self.size\n",
    "            if self.table[probe_idx] is None:\n",
    "                return False\n",
    "            if self.table[probe_idx] == key:\n",
    "                return True\n",
    "        return False\n",
    "\n",
    "    def delete(self, key: str) -> None:\n",
    "        idx = self._hash(key)\n",
    "        for i in range(self.size):\n",
    "            probe_idx = (idx + i) % self.size\n",
    "            if self.table[probe_idx] is None:\n",
    "                return\n",
    "            if self.table[probe_idx] == key:\n",
    "                self.table[probe_idx] = None\n",
    "                return\n",
    "\n",
    "    def display(self):\n",
    "        for i, val in enumerate(self.table):\n",
    "            print(f\"{i}: {val}\")\n",
    "\n",
    "table.insert(\"apple\")\n",
    "table.insert(\"banana\")\n",
    "table.insert(\"grape\")\n",
    "table.search(\"banana\")  # True\n",
    "table.delete(\"banana\")\n",
    "table.search(\"banana\")  # False"
   ]
  },
  {
   "cell_type": "markdown",
   "id": "28c13742",
   "metadata": {},
   "source": [
    "## ✅ 문제 3. 재귀함수로 문자열 뒤집기\n",
    "\n",
    "**설명**: 재귀를 이용하여 문자열을 뒤집는 함수를 작성하시오.\n",
    "\n",
    "**예시 입력/출력**:\n",
    "```python\n",
    "reverse(\"hello\") -> \"olleh\"\n",
    "reverse(\"ai\") -> \"ia\"\n",
    "```\n"
   ]
  },
  {
   "cell_type": "code",
   "execution_count": 29,
   "id": "2e125bfb-4ee4-476d-bd29-88abc0c6da97",
   "metadata": {},
   "outputs": [
    {
     "name": "stdout",
     "output_type": "stream",
     "text": [
      "olleh\n",
      "ia\n"
     ]
    }
   ],
   "source": [
    "def reverse_word(w):\n",
    "    if len(w) <= 1:\n",
    "        return w\n",
    "    return w[-1] + reverse_word(w[:-1])\n",
    "\n",
    "\n",
    "print(reverse_word(\"hello\"))\n",
    "print(reverse_word(\"ai\"))"
   ]
  },
  {
   "cell_type": "markdown",
   "id": "d84b70ac",
   "metadata": {},
   "source": [
    "## ✅ 문제 4. 하노이의 탑 (재귀 구현)\n",
    "\n",
    "**설명**: 하노이 탑 문제를 재귀적으로 해결하는 함수를 작성하시오. 이동 과정을 출력하도록 하세요.\n",
    "\n",
    "**입력**:\n",
    "- 원반의 개수 `n`: 정수\n",
    "- 기둥 이름: `A`, `B`, `C`\n",
    "\n",
    "**출력 예시**:\n",
    "```\n",
    "Move disk 1 from A to C\n",
    "Move disk 2 from A to B\n",
    "...\n",
    "```\n"
   ]
  },
  {
   "cell_type": "code",
   "execution_count": 30,
   "id": "fc153ca5-9b8f-4661-b4df-b029f5d6b156",
   "metadata": {},
   "outputs": [
    {
     "name": "stdout",
     "output_type": "stream",
     "text": [
      "Move disk1 from A to C\n",
      "Move disk2 from A to B\n",
      "Move disk1 from C to B\n",
      "Move disk3 from A to C\n",
      "Move disk1 from B to A\n",
      "Move disk2 from B to C\n",
      "Move disk1 from A to C\n"
     ]
    }
   ],
   "source": [
    "def hanoi(n, start, mid, end):\n",
    "    if n == 1:\n",
    "        print(f'Move disk{n} from {start} to {end}')\n",
    "    else:\n",
    "        hanoi(n-1, start, end, mid)\n",
    "        print(f'Move disk{n} from {start} to {end}')\n",
    "        hanoi(n-1,mid,start,end)\n",
    "\n",
    "hanoi(3,'A','B','C')"
   ]
  },
  {
   "cell_type": "markdown",
   "id": "31afc129",
   "metadata": {},
   "source": [
    "## ✅ 문제 5. 충돌이 많은 데이터를 위한 해시 성능 실험\n",
    "\n",
    "**설명**: 아래의 문자열 리스트를 사용하여 두 가지 방식(체이닝 vs 오픈 어드레싱)의 충돌 빈도를 비교하고 결과를 출력하시오.\n",
    "\n",
    "```python\n",
    "keys = [\"aa\", \"bb\", \"cc\", \"dd\", \"ee\", \"af\", \"ag\", \"ah\", \"ai\"]\n",
    "```\n",
    "\n",
    "**요구사항**:\n",
    "- 같은 해시 테이블 크기(예: 5) 사용\n",
    "- 충돌 횟수 출력\n",
    "- 각 방식에서 최종 테이블 출력\n"
   ]
  },
  {
   "cell_type": "code",
   "execution_count": 33,
   "id": "117c0c29-6843-442d-81a2-513edec28c8c",
   "metadata": {},
   "outputs": [
    {
     "name": "stdout",
     "output_type": "stream",
     "text": [
      "체이닝 방식\n",
      "충돌 횟수: 4\n",
      "0: ['dd']\n",
      "1: ['ee']\n",
      "2: []\n",
      "3: []\n",
      "4: []\n",
      "5: []\n",
      "6: []\n",
      "7: ['aa', 'af', 'ag', 'ah', 'ai']\n",
      "8: ['bb']\n",
      "9: ['cc']\n",
      "\n",
      "오픈 어드레싱 방식\n",
      "Hash table is full!\n",
      "Hash table is full!\n",
      "충돌 횟수: 18\n",
      "0: bb\n",
      "1: ag\n",
      "2: cc\n",
      "3: af\n",
      "4: dd\n",
      "5: aa\n",
      "6: ee\n"
     ]
    }
   ],
   "source": [
    "keys = [\"aa\", \"bb\", \"cc\", \"dd\", \"ee\", \"af\", \"ag\", \"ah\", \"ai\"]\n",
    "\n",
    "print(\"체이닝 방식\")\n",
    "chain_table = SimpleChainedHashTable()\n",
    "\n",
    "for key in keys:\n",
    "    chain_table.insert(key)\n",
    "    \n",
    "print(f\"충돌 횟수: {chain_table.collisions}\")\n",
    "chain_table.display()\n",
    "\n",
    "print(\"\\n오픈 어드레싱 방식\")\n",
    "open_table = OpenAddressingHashTable()\n",
    "\n",
    "for key in keys:\n",
    "    open_table.insert(key)\n",
    "    \n",
    "print(f\"충돌 횟수: {open_table.collisions}\")\n",
    "open_table.display()"
   ]
  },
  {
   "cell_type": "markdown",
   "id": "9b1366bd",
   "metadata": {},
   "source": [
    "## ✅ 문제 6. 재귀로 구성한 해시 충돌 시 처리 시뮬레이션\n",
    "\n",
    "**설명**: 해시 충돌 시 체이닝된 리스트의 길이가 `n` 이상이 되면 재귀적으로 새로운 해시 테이블로 분산하도록 구현하시오 (즉, 동적 리해싱 재귀 시뮬레이션).\n",
    "\n",
    "**추가 조건**:\n",
    "- 체이닝 리스트 길이 제한: 3\n",
    "- 재귀적으로 `new_size = old_size * 2 + 1`로 리해싱\n",
    "- 삽입 로그 출력\n"
   ]
  },
  {
   "cell_type": "code",
   "execution_count": null,
   "id": "ddff3b0d-d9b5-44ea-a11b-b080cefe7661",
   "metadata": {},
   "outputs": [],
   "source": [
    "class RecursiveHashTable:\n",
    "    def __init__(self, capacity=5):\n",
    "        self.capacity = capacity\n",
    "        self.buckets = [[] for _ in range(capacity)]\n",
    "        \n",
    "    def _hash(self, key):\n",
    "        # 첫 글자의 아스키 값을 기준으로 해시 인덱스를 계산\n",
    "        return ord(key[0]) % self.capacity\n",
    "        \n",
    "    def insert(self, key):\n",
    "        index = self._hash(key)\n",
    "        self.buckets[index].append(key)\n",
    "        print(f\"[{self.capacity}] 키 '{key}'를 인덱스 {index}에 저장\")\n",
    "        \n",
    "        # 체이닝된 리스트가 3개 이상이면 리해싱을 시작\n",
    "        if len(self.buckets[index]) >= 3:\n",
    "            print(f\"→ 인덱스 {index}에서 충돌 발생, 테이블 크기 {self.capacity} → 리해싱 시작\")\n",
    "            self._rehash()\n",
    "            \n",
    "    def _rehash(self):\n",
    "        # 모든 키를 꺼내서 새로운 해시 테이블로 옮김\n",
    "        all_keys = [k for bucket in self.buckets for k in bucket]\n",
    "        \n",
    "        # 새로운 용량 계산 (old_size * 2 + 1)\n",
    "        new_capacity = self.capacity * 2 + 1\n",
    "        \n",
    "        # 새로운 해시 테이블 생성\n",
    "        self.capacity = new_capacity\n",
    "        self.buckets = [[] for _ in range(new_capacity)]\n",
    "        \n",
    "        # 모든 키를 새 테이블에 다시 삽입\n",
    "        for k in all_keys:\n",
    "            self.insert(k)\n",
    "        \n",
    "    def show(self):\n",
    "        for idx, bucket in enumerate(self.buckets):\n",
    "            print(f\"{idx}: {bucket}\")\n",
    "\n",
    "\n",
    "keys = [\"aa\", \"bb\", \"cc\", \"dd\", \"ee\", \"af\", \"ag\", \"ah\", \"ai\"]\n",
    "table = RecursiveHashTable()\n",
    "for k in keys:\n",
    "    table.insert(k)\n",
    "    \n",
    "print(\"=== 최종 해시 테이블 ===\")\n",
    "table.show()"
   ]
  },
  {
   "cell_type": "markdown",
   "id": "419cc1c4-c616-4a7e-867e-a101848f6c8c",
   "metadata": {},
   "source": [
    "# 데일리 미션 보너스 문제 \n",
    "## ✅ 문제 7. 스택 구현 및 수식 괄호 검사기\n",
    "**설명**: 파이썬 리스트를 사용해 스택을 구현하고, 입력된 괄호 문자열의 괄호가 올바르게 짝지어져 있는지 검사하는 프로그램을 작성하시오.\n",
    "\n",
    "**요구사항**:\n",
    "- push, pop, peek, is_empty 메서드 포함\n",
    "- 괄호 종류: (), {}, []\n",
    "\n",
    "**예시 입력**:\n",
    "```python\n",
    "is_balanced(\"((a+b)c)\")      # True\n",
    "is_balanced(\"({[a+b]c}\")     # False\n",
    "```"
   ]
  },
  {
   "cell_type": "code",
   "execution_count": null,
   "id": "4be7df17-152c-4ead-83a5-0e42c1b24f2f",
   "metadata": {},
   "outputs": [],
   "source": [
    "class Stack:\n",
    "    def __init__(self):\n",
    "        self.items = []\n",
    "\n",
    "    def push(self, item):\n",
    "        self.items.append(item)\n",
    "\n",
    "    def pop(self):\n",
    "        if not self.is_empty():\n",
    "            return self.items.pop()\n",
    "        return None\n",
    "\n",
    "    def get_top(self):\n",
    "        if not self.is_empty():\n",
    "            return self.items[-1]\n",
    "        return None\n",
    "\n",
    "    def is_empty(self):\n",
    "        return len(self.items) == 0\n",
    "    \n",
    "    def size(self):\n",
    "        return len(self.items)\n",
    "\n",
    "    def is_balanced(expr):\n",
    "    stack = Stack()\n",
    "    opening = \"({[\"\n",
    "    closing = \")}]\"\n",
    "    \n",
    "    for char in expr:\n",
    "        # 여는 괄호인 경우 스택에 추가\n",
    "        if char in opening:\n",
    "            stack.push(char)\n",
    "        # 닫는 괄호인 경우 처리\n",
    "        elif char in closing:\n",
    "            # 스택이 비어있으면 짝이 맞지 않음\n",
    "            if stack.is_empty():\n",
    "                return False\n",
    "            \n",
    "            # 짝이 맞는지 확인\n",
    "            top = stack.pop()\n",
    "            if opening.index(top) != closing.index(char):\n",
    "                return False\n",
    "    \n",
    "    # 모든 문자를 검사한 후 스택이 비어있어야 모든 괄호가 짝을 이룸\n",
    "    return stack.is_empty()\n",
    "\n",
    "test_cases = [\n",
    "    \"((a+b)c)\",\n",
    "    \"({[a+b]c})\",\n",
    "    \"({[a+b]c}\",\n",
    "    \"((a+b)c]\",\n",
    "    \"{[a+b](c)}\",\n",
    "    \"((()))\",\n",
    "    \"(()\"\n",
    "]\n",
    "\n",
    "for test in test_cases:\n",
    "    print(f\"{test}: {is_balanced(test)}\")"
   ]
  },
  {
   "cell_type": "markdown",
   "id": "81c0e3ec-cd62-4373-94fb-4009440b4c1c",
   "metadata": {},
   "source": [
    "## ✅ 문제 8. 큐 구현 및 프린터 대기열 시뮬레이션\n",
    "**설명**: 파이썬 리스트 또는 collections.deque를 이용해 큐를 구현하고, 프린터 대기열 시스템을 시뮬레이션하시오.\n",
    "\n",
    "**요구사항**:\n",
    "- 큐의 기본 기능: enqueue, dequeue, peek, is_empty\n",
    "- 프린터 작업이 들어오면 대기열에 삽입\n",
    "- 하나씩 처리되며 출력 로그를 남김\n",
    "  \n",
    "**입력 예시**:\n",
    "```python\n",
    "queue.enqueue(\"문서1\")\n",
    "queue.enqueue(\"문서2\")\n",
    "queue.dequeue()  # \"문서1 인쇄 완료\"\n",
    "```"
   ]
  }
 ],
 "metadata": {
  "kernelspec": {
   "display_name": "Python [conda env:base] *",
   "language": "python",
   "name": "conda-base-py"
  },
  "language_info": {
   "codemirror_mode": {
    "name": "ipython",
    "version": 3
   },
   "file_extension": ".py",
   "mimetype": "text/x-python",
   "name": "python",
   "nbconvert_exporter": "python",
   "pygments_lexer": "ipython3",
   "version": "3.12.3"
  }
 },
 "nbformat": 4,
 "nbformat_minor": 5
}
