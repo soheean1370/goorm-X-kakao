{
 "cells": [
  {
   "cell_type": "markdown",
   "id": "2b5c63f6",
   "metadata": {},
   "source": [
    "# 🧩 시나리오 기반 프로젝트 실습 문제\n",
    "## 🎓 AI 스타트업에서의 첫 실전 미션!\n",
    "\n",
    "당신은 AI 스타트업 `InsightMind`의 신입 머신러닝 엔지니어입니다. 첫 출근과 동시에 두 가지 미션이 주어집니다:\n",
    "- 부동산 기업의 주택 가격 예측 시스템 개발\n",
    "- 식물원 전시를 위한 붓꽃 품종 분류기 개발\n",
    "\n",
    "이 문제들은 실습 중심으로 구성되어 있으며, 각 단계에서 코드를 직접 작성하고 결과를 분석합니다."
   ]
  },
  {
   "cell_type": "markdown",
   "id": "4ee52acb",
   "metadata": {},
   "source": [
    "## ✅ 미션 A. 데이터 준비 및 스케일링 요정의 조언\n",
    "**🧙‍♀️ 요정 조언:** 거리 기반 모델들은 특성의 크기에 민감하단다. 스케일링을 안 하면 예측이 뒤틀릴 거야!\n",
    "\n",
    "### 🔹 문제 A-1\n",
    "왜 스케일링이 중요한지, 그 이유를 KNN과 연관지어 2가지 이상 설명하고 `StandardScaler` 또는 `MinMaxScaler` 예시 코드를 작성하세요.\n",
    "\n",
    "**이유**\n",
    "1. 각 피처들의 스케일이 다르면 거리 기반 알고리즘인 KNN에서 분류 결과가 특정 특성에 편향되어 왜곡될 수 있다.\n",
    "2. 값의 범위가 큰 feature일수록 거리 계산에 더 큰 영향을 미치기 때문에, feature마다 단위나 범위가 다르면 공정한 비교가 어렵다.\n",
    "3. 예를 들어, 행성 탐사 로봇의 표면 온도(-150~100℃)와 방사선 노출량(수천 μSv) 데이터를 함께 사용할 경우, 방사선 특성이 거리 계산을 지배해 온도의 영향이 무시되는 문제가 발생할 수 있다.\n",
    "\n",
    "**예시코드**\n",
    "```python\n",
    "from sklearn.preprocessing import MinMaxScaler # 모든 값을 0~1 사이로\n",
    "\n",
    "scaler = MinMaxScaler()\n",
    "x_train_s1 = scaler.fit_transform(x_train)\n",
    "x_val_s1 = scaler.transform(x_val)\n",
    "```"
   ]
  },
  {
   "cell_type": "markdown",
   "id": "4aed258f",
   "metadata": {},
   "source": [
    "### 🔹 문제 A-2\n",
    "`fetch_california_housing()`과 `load_iris()` 데이터를 불러와 train/test split하고 `StandardScaler`를 적용하여 전처리된 결과를 확인하세요."
   ]
  },
  {
   "cell_type": "code",
   "execution_count": 88,
   "id": "78df0a1d-4fa6-4dc2-8a2c-2b6476d8346b",
   "metadata": {},
   "outputs": [
    {
     "name": "stdout",
     "output_type": "stream",
     "text": [
      "   MedInc  HouseAge  AveRooms  AveBedrms  Population  AveOccup  Latitude  \\\n",
      "0  8.3252      41.0  6.984127   1.023810       322.0  2.555556     37.88   \n",
      "1  8.3014      21.0  6.238137   0.971880      2401.0  2.109842     37.86   \n",
      "2  7.2574      52.0  8.288136   1.073446       496.0  2.802260     37.85   \n",
      "3  5.6431      52.0  5.817352   1.073059       558.0  2.547945     37.85   \n",
      "4  3.8462      52.0  6.281853   1.081081       565.0  2.181467     37.85   \n",
      "\n",
      "   Longitude  MedHouseVal  \n",
      "0    -122.23        4.526  \n",
      "1    -122.22        3.585  \n",
      "2    -122.24        3.521  \n",
      "3    -122.25        3.413  \n",
      "4    -122.25        3.422  \n",
      "(20640, 9)\n",
      "   MedInc  HouseAge  AveRooms  AveBedrms  Population  AveOccup  Latitude  \\\n",
      "0  8.3252      41.0  6.984127   1.023810       322.0  2.555556     37.88   \n",
      "1  8.3014      21.0  6.238137   0.971880      2401.0  2.109842     37.86   \n",
      "2  7.2574      52.0  8.288136   1.073446       496.0  2.802260     37.85   \n",
      "3  5.6431      52.0  5.817352   1.073059       558.0  2.547945     37.85   \n",
      "4  3.8462      52.0  6.281853   1.081081       565.0  2.181467     37.85   \n",
      "\n",
      "   Longitude  \n",
      "0    -122.23  \n",
      "1    -122.22  \n",
      "2    -122.24  \n",
      "3    -122.25  \n",
      "4    -122.25  \n",
      "0    4.526\n",
      "1    3.585\n",
      "2    3.521\n",
      "3    3.413\n",
      "4    3.422\n",
      "Name: MedHouseVal, dtype: float64\n",
      "********\n",
      "(20640, 8)\n",
      "(20640,)\n",
      "       MedInc  HouseAge  AveRooms  AveBedrms  Population  AveOccup  Latitude  \\\n",
      "12805  1.2917      43.0  3.831034   0.927586       613.0  2.113793     38.61   \n",
      "6476   3.7222      34.0  4.546135   1.139651      1485.0  3.703242     34.09   \n",
      "6148   2.9712      33.0  4.609467   0.934911      1600.0  4.733728     34.10   \n",
      "3416   4.2969      32.0  5.199346   1.045752      1818.0  5.941176     34.29   \n",
      "13994  3.1528      23.0  5.652985   1.086754      2920.0  2.723881     34.88   \n",
      "\n",
      "       Longitude  \n",
      "12805    -121.46  \n",
      "6476     -118.08  \n",
      "6148     -117.97  \n",
      "3416     -118.41  \n",
      "13994    -116.99  \n",
      "********\n",
      "       MedInc  HouseAge  AveRooms  AveBedrms  Population  AveOccup  Latitude  \\\n",
      "20463  5.8096      20.0  8.165888   1.049065      1629.0  3.806075     34.27   \n",
      "14387  2.4779      21.0  3.727273   1.105455      1131.0  2.056364     32.75   \n",
      "9484   2.8833      19.0  6.750000   1.348684       424.0  2.789474     39.31   \n",
      "19925  4.3816      35.0  6.126984   1.023810       849.0  2.246032     36.32   \n",
      "15062  1.3291      16.0  3.831867   1.069404      2612.0  2.553275     32.80   \n",
      "\n",
      "       Longitude  \n",
      "20463    -118.75  \n",
      "14387    -117.23  \n",
      "9484     -123.15  \n",
      "19925    -119.32  \n",
      "15062    -116.96  \n",
      "[[-1.36431328  1.13707301 -0.6219148  ... -0.08369721  1.39469593\n",
      "  -0.94656004]\n",
      " [-0.07834462  0.42382985 -0.34485223 ...  0.04895956 -0.72010571\n",
      "   0.74069933]\n",
      " [-0.47569597  0.34458061 -0.32031421 ...  0.13496481 -0.71542695\n",
      "   0.79561014]\n",
      " ...\n",
      " [-0.52659504  0.74082681 -0.4737731  ... -0.04430527  0.97828587\n",
      "  -1.29599246]\n",
      " [-0.70738726  1.13707301  0.20887524 ... -0.03652352  0.97828587\n",
      "  -1.4507411 ]\n",
      " [ 0.65186124 -0.28941331  0.15399691 ... -0.06994586 -1.29559377\n",
      "   1.15502634]]\n"
     ]
    }
   ],
   "source": [
    "from sklearn.datasets import fetch_california_housing, load_iris\n",
    "from sklearn.model_selection import train_test_split\n",
    "from sklearn.preprocessing import StandardScaler\n",
    "import pandas as pd\n",
    "\n",
    "# California housing 데이터 로드\n",
    "housing = fetch_california_housing(as_frame=True).frame\n",
    "\n",
    "print(housing.head())\n",
    "print(housing.shape)\n",
    "\n",
    "X_housing = housing.iloc[:, 0:8]\n",
    "y_housing = housing.iloc[:, 8] \n",
    "\n",
    "print(X_housing.head())\n",
    "print(y_housing.head())\n",
    "\n",
    "print(\"********\")\n",
    "\n",
    "print(X_housing.shape)\n",
    "print(y_housing.shape)\n",
    "\n",
    "X_housing_train , X_housing_test , y_housing_train, y_housing_test = train_test_split(X_housing, y_housing)\n",
    "print(X_housing_train.head())\n",
    "print(\"********\")\n",
    "print(X_housing_test.head())\n",
    "\n",
    "#  스케일러 적용\n",
    "housing_scaler  = StandardScaler()\n",
    "X_housing_train_scale = housing_scaler .fit_transform(X_housing_train)\n",
    "print(X_housing_train_scale)"
   ]
  },
  {
   "cell_type": "code",
   "execution_count": 89,
   "id": "2a093a13-6637-49fc-b850-ca2a5e0b28ca",
   "metadata": {},
   "outputs": [
    {
     "name": "stdout",
     "output_type": "stream",
     "text": [
      "   sepal length (cm)  sepal width (cm)  petal length (cm)  petal width (cm)  \\\n",
      "0                5.1               3.5                1.4               0.2   \n",
      "1                4.9               3.0                1.4               0.2   \n",
      "2                4.7               3.2                1.3               0.2   \n",
      "3                4.6               3.1                1.5               0.2   \n",
      "4                5.0               3.6                1.4               0.2   \n",
      "\n",
      "   target  \n",
      "0       0  \n",
      "1       0  \n",
      "2       0  \n",
      "3       0  \n",
      "4       0  \n",
      "(150, 5)\n",
      "   sepal length (cm)  sepal width (cm)  petal length (cm)  petal width (cm)\n",
      "0                5.1               3.5                1.4               0.2\n",
      "1                4.9               3.0                1.4               0.2\n",
      "2                4.7               3.2                1.3               0.2\n",
      "3                4.6               3.1                1.5               0.2\n",
      "4                5.0               3.6                1.4               0.2\n",
      "0    0\n",
      "1    0\n",
      "2    0\n",
      "3    0\n",
      "4    0\n",
      "Name: target, dtype: int32\n",
      "********\n",
      "(150, 4)\n",
      "(150,)\n",
      "     sepal length (cm)  sepal width (cm)  petal length (cm)  petal width (cm)\n",
      "37                 4.9               3.6                1.4               0.1\n",
      "31                 5.4               3.4                1.5               0.4\n",
      "146                6.3               2.5                5.0               1.9\n",
      "91                 6.1               3.0                4.6               1.4\n",
      "56                 6.3               3.3                4.7               1.6\n",
      "********\n",
      "     sepal length (cm)  sepal width (cm)  petal length (cm)  petal width (cm)\n",
      "100                6.3               3.3                6.0               2.5\n",
      "105                7.6               3.0                6.6               2.1\n",
      "53                 5.5               2.3                4.0               1.3\n",
      "96                 5.7               2.9                4.2               1.3\n",
      "129                7.2               3.0                5.8               1.6\n",
      "[[-1.14124544  1.20428872 -1.29157759 -1.39853388]\n",
      " [-0.49634388  0.75692442 -1.23455879 -1.00298895]\n",
      " [ 0.66447893 -1.25621493  0.76109913  0.97473574]\n",
      " [ 0.4065183  -0.13780418  0.53302394  0.31549418]\n",
      " [ 0.66447893  0.53324227  0.59004274  0.5791908 ]\n",
      " [-1.52818637  0.08587797 -1.23455879 -1.26668557]\n",
      " [-1.01226512 -0.13780418 -1.17753999 -1.26668557]\n",
      " [-0.88328481  0.75692442 -1.23455879 -1.26668557]\n",
      " [ 0.4065183  -0.36148633  0.59004274  0.31549418]\n",
      " [ 1.05141986 -0.13780418  0.41898634  0.31549418]\n",
      " [ 0.27753799 -0.80885063  0.81811793  0.5791908 ]\n",
      " [-1.52818637  0.75692442 -1.29157759 -1.13483726]\n",
      " [-0.10940294 -1.03253278 -0.09418284 -0.21189907]\n",
      " [-1.39920606  0.30956012 -1.34859639 -1.26668557]\n",
      " [-1.52818637  0.30956012 -1.29157759 -1.26668557]\n",
      " [ 0.01957737  2.09901732 -1.40561519 -1.26668557]\n",
      " [ 1.30938049  0.30956012  1.27426831  1.50212899]\n",
      " [ 0.92243955 -0.13780418  1.04619312  0.84288743]\n",
      " [ 1.69632142 -0.13780418  1.27426831  1.23843236]\n",
      " [-0.10940294 -0.58516848  0.47600514  0.18364586]\n",
      " [ 0.27753799 -0.36148633  0.47600514  0.44734249]\n",
      " [-0.23838325 -0.13780418  0.47600514  0.44734249]\n",
      " [ 0.01957737 -1.03253278  0.19091115  0.05179755]\n",
      " [ 1.30938049 -0.13780418  1.04619312  1.23843236]\n",
      " [ 0.27753799 -1.92726138  0.76109913  0.44734249]\n",
      " [-1.52818637  1.20428872 -1.51965278 -1.26668557]\n",
      " [-0.49634388  1.42797087 -1.23455879 -1.26668557]\n",
      " [ 0.92243955 -0.13780418  1.21724951  1.37028067]\n",
      " [ 0.27753799 -0.13780418  0.64706154  0.84288743]\n",
      " [ 0.53549862 -1.92726138  0.47600514  0.44734249]\n",
      " [-0.88328481  1.42797087 -1.23455879 -1.00298895]\n",
      " [ 1.82530173  0.30956012  1.33128711  0.84288743]\n",
      " [-0.7543045   0.98060657 -1.23455879 -1.26668557]\n",
      " [ 0.01957737 -0.80885063  0.24792995 -0.21189907]\n",
      " [-1.01226512  1.20428872 -1.29157759 -1.26668557]\n",
      " [ 1.18040017  0.53324227  1.16023072  1.23843236]\n",
      " [-0.10940294  2.99374592 -1.23455879 -1.00298895]\n",
      " [ 0.27753799  0.75692442  0.47600514  0.5791908 ]\n",
      " [-0.88328481  1.65165302 -1.0064836  -1.00298895]\n",
      " [-1.01226512  0.53324227 -1.29157759 -1.26668557]\n",
      " [ 0.4065183  -0.58516848  0.19091115  0.18364586]\n",
      " [-0.36736357 -1.47989708  0.07687356 -0.08005076]\n",
      " [ 0.66447893 -0.36148633  1.10321192  0.84288743]\n",
      " [-0.7543045   2.32269947 -1.23455879 -1.39853388]\n",
      " [ 2.08326236 -0.58516848  1.38830591  0.97473574]\n",
      " [ 1.4383608   0.08587797  0.81811793  1.50212899]\n",
      " [ 1.82530173  1.20428872  1.38830591  1.76582561]\n",
      " [ 1.18040017  0.53324227  1.16023072  1.76582561]\n",
      " [ 0.01957737 -0.80885063  0.81811793  0.97473574]\n",
      " [ 0.66447893 -1.25621493  0.70408033  0.44734249]\n",
      " [-0.10940294 -0.13780418  0.30494875  0.05179755]\n",
      " [-1.78614699 -0.36148633 -1.29157759 -1.26668557]\n",
      " [-0.7543045   0.75692442 -1.29157759 -1.26668557]\n",
      " [-0.62532419  1.42797087 -1.23455879 -1.26668557]\n",
      " [-1.27022575 -0.13780418 -1.29157759 -1.39853388]\n",
      " [-1.27022575 -0.13780418 -1.29157759 -1.13483726]\n",
      " [ 0.4065183  -1.03253278  1.10321192  0.31549418]\n",
      " [ 1.18040017 -1.25621493  1.21724951  0.84288743]\n",
      " [ 0.66447893 -0.58516848  0.81811793  0.44734249]\n",
      " [ 0.79345924  0.08587797  1.04619312  0.84288743]\n",
      " [-1.91512731 -0.13780418 -1.46263398 -1.39853388]\n",
      " [-1.14124544 -1.25621493  0.47600514  0.71103911]\n",
      " [-0.49634388  0.75692442 -1.1205212  -1.26668557]\n",
      " [-0.36736357  0.98060657 -1.34859639 -1.26668557]\n",
      " [-0.88328481  0.53324227 -1.1205212  -0.87114064]\n",
      " [-0.23838325 -0.13780418  0.24792995  0.18364586]\n",
      " [-1.01226512 -2.37462568 -0.09418284 -0.21189907]\n",
      " [ 0.14855768  0.30956012  0.64706154  0.84288743]\n",
      " [ 0.4065183  -0.58516848  0.59004274  0.05179755]\n",
      " [ 0.66447893  0.75692442  1.10321192  1.6339773 ]\n",
      " [ 0.66447893 -0.80885063  0.70408033  0.84288743]\n",
      " [ 1.4383608   0.08587797  0.70408033  0.44734249]\n",
      " [-0.7543045  -0.80885063  0.13389236  0.31549418]\n",
      " [-0.10940294 -0.58516848  0.24792995  0.18364586]\n",
      " [-0.23838325 -0.58516848  0.70408033  1.10658405]\n",
      " [ 0.01957737 -0.80885063  0.13389236  0.05179755]\n",
      " [ 1.4383608   0.08587797  0.98917432  1.23843236]\n",
      " [-0.10940294 -1.25621493  0.76109913  1.10658405]\n",
      " [-1.14124544  0.08587797 -1.23455879 -1.26668557]\n",
      " [-0.36736357 -1.47989708  0.01985476 -0.21189907]\n",
      " [-0.88328481  0.98060657 -1.29157759 -1.26668557]\n",
      " [ 0.01957737 -0.58516848  0.81811793  1.6339773 ]\n",
      " [-1.14124544 -1.47989708 -0.20822043 -0.21189907]\n",
      " [-0.23838325 -0.80885063  0.30494875  0.18364586]\n",
      " [ 0.27753799 -1.92726138  0.19091115 -0.21189907]\n",
      " [ 1.18040017 -0.13780418  0.87513673  1.50212899]\n",
      " [ 1.18040017 -0.13780418  0.76109913  0.71103911]\n",
      " [-1.01226512  0.75692442 -1.17753999 -1.00298895]\n",
      " [ 0.53549862 -0.36148633  0.36196755  0.18364586]\n",
      " [ 2.47020329 -0.58516848  1.73041869  1.10658405]\n",
      " [ 1.18040017  0.08587797  0.41898634  0.31549418]\n",
      " [-1.78614699 -0.13780418 -1.34859639 -1.26668557]\n",
      " [-0.36736357 -1.03253278  0.41898634  0.05179755]\n",
      " [-0.10940294  1.65165302 -1.1205212  -1.13483726]\n",
      " [ 0.4065183  -0.13780418  0.70408033  0.84288743]\n",
      " [-1.14124544  0.08587797 -1.23455879 -1.39853388]\n",
      " [ 0.92243955  0.30956012  0.81811793  1.10658405]\n",
      " [-0.23838325 -0.36148633 -0.03716404  0.18364586]\n",
      " [-1.65716668 -1.70357923 -1.34859639 -1.13483726]\n",
      " [-1.27022575  0.75692442 -1.17753999 -1.26668557]\n",
      " [ 2.47020329  1.65165302  1.73041869  1.37028067]\n",
      " [-0.49634388  1.87533517 -1.1205212  -1.00298895]\n",
      " [ 0.53549862 -0.58516848  0.64706154  0.84288743]\n",
      " [ 0.53549862  0.75692442  0.98917432  1.50212899]\n",
      " [ 0.66447893 -1.70357923  0.41898634  0.18364586]\n",
      " [-0.88328481  0.98060657 -1.29157759 -1.13483726]\n",
      " [ 0.79345924 -0.80885063  0.93215552  0.97473574]\n",
      " [-0.88328481  1.65165302 -1.23455879 -1.13483726]\n",
      " [-0.88328481  1.65165302 -1.17753999 -1.26668557]\n",
      " [ 0.79345924 -0.58516848  1.10321192  1.37028067]\n",
      " [ 1.95428204 -0.36148633  1.5023435   0.84288743]\n",
      " [-1.01226512  0.98060657 -1.17753999 -0.73929232]]\n"
     ]
    }
   ],
   "source": [
    "# Iris 데이터 로드\n",
    "iris = load_iris(as_frame=True).frame\n",
    "\n",
    "print(iris.head())\n",
    "print(iris.shape)\n",
    "\n",
    "X_iris = iris.iloc[:, 0:4]\n",
    "y_iris = iris.iloc[:, 4] \n",
    "\n",
    "print(X_iris.head())\n",
    "print(y_iris.head())\n",
    "\n",
    "print(\"********\")\n",
    "\n",
    "print(X_iris.shape)\n",
    "print(y_iris.shape)\n",
    "\n",
    "X_iris_train , X_iris_test , y_iris_train, y_iris_test = train_test_split(X_iris, y_iris)\n",
    "print(X_iris_train.head())\n",
    "print(\"********\")\n",
    "print(X_iris_test.head())\n",
    "\n",
    "#  스케일러 적용\n",
    "iris_scaler  = StandardScaler()\n",
    "X_iris_train_scale = iris_scaler.fit_transform(X_iris_train)\n",
    "X_iris_test_scale = iris_scaler.fit_transform(X_iris_test)\n",
    "print(X_iris_train_scale)"
   ]
  },
  {
   "cell_type": "markdown",
   "id": "7c60d651",
   "metadata": {},
   "source": [
    "## ✅ 미션 B. 부동산 부자의 질문: “우리 집 값 얼마야?”\n",
    "### 🔹 문제 B-1\n",
    "KNN 회귀기를 사용해 주택 가격을 예측하고, `k=3,5,7`일 때 R² 점수를 비교하세요."
   ]
  },
  {
   "cell_type": "code",
   "execution_count": 90,
   "id": "9f6aed62-9ce1-43c7-afa8-fc721ccee4ab",
   "metadata": {},
   "outputs": [
    {
     "name": "stdout",
     "output_type": "stream",
     "text": [
      "k=3일 때 R² 점수: 0.653\n",
      "k=5일 때 R² 점수: 0.676\n",
      "k=7일 때 R² 점수: 0.69\n"
     ]
    }
   ],
   "source": [
    "from sklearn.neighbors import KNeighborsRegressor\n",
    "from sklearn.metrics import r2_score\n",
    "\n",
    "X_housing_test_scale = housing_scaler.transform(X_housing_test)\n",
    "\n",
    "# R² 점수 저장용 딕셔너리\n",
    "r2_scores = {}\n",
    "\n",
    "# k=3,5,7에 대해 반복\n",
    "for k in [3, 5, 7]:\n",
    "    # KNN 회귀 모델 생성 및 학습\n",
    "    reg = KNeighborsRegressor(n_neighbors=k)\n",
    "    reg.fit(X_housing_train_scale, y_housing_train)\n",
    "    \n",
    "    # 테스트 데이터에 대한 예측수행\n",
    "    y_pred = reg.predict(X_housing_test_scale)\n",
    "    \n",
    "    # R² 점수 계산\n",
    "    score = r2_score(y_housing_test, y_pred)\n",
    "    r2_scores[k] = round(score, 3)\n",
    "    \n",
    "    print(f\"k={k}일 때 R² 점수: {r2_scores[k]}\")"
   ]
  },
  {
   "cell_type": "markdown",
   "id": "719a78a8-1c98-4b94-a809-b8219ad6eb70",
   "metadata": {},
   "source": [
    "### 🔹 문제 B-2\n",
    "`y_test` vs `y_pred` 산점도 그래프를 시각화하여 모델 성능을 직관적으로 확인하세요.\n"
   ]
  },
  {
   "cell_type": "code",
   "execution_count": 91,
   "id": "3567f21d-8591-42ca-bba7-e8a62f05c528",
   "metadata": {},
   "outputs": [
    {
     "name": "stderr",
     "output_type": "stream",
     "text": [
      "C:\\Users\\sohee\\anaconda3\\Lib\\site-packages\\sklearn\\base.py:486: UserWarning: X has feature names, but KNeighborsRegressor was fitted without feature names\n",
      "  warnings.warn(\n"
     ]
    },
    {
     "data": {
      "image/png": "[encoded data removed]",
      "text/plain": [
       "<Figure size 600x600 with 1 Axes>"
      ]
     },
     "metadata": {},
     "output_type": "display_data"
    }
   ],
   "source": [
    "import matplotlib.pyplot as plt\n",
    "\n",
    "# 예측값 구하기\n",
    "y_pred = reg.predict(X_housing_test)\n",
    "\n",
    "# 산점도 시각화\n",
    "plt.figure(figsize=(6,6))\n",
    "plt.scatter(y_housing_test, y_pred, alpha=0.5)\n",
    "plt.xlabel(\"Actual y (True House Value)\")\n",
    "plt.ylabel(\"Predicted y (Predicted Value)\")\n",
    "plt.title(\"y_test vs y_pred\")\n",
    "plt.plot([y_housing_test.min(), y_housing_test.max()], [y_housing_test.min(), y_housing_test.max()], 'r--')\n",
    "plt.grid(True)\n",
    "plt.show()\n"
   ]
  },
  {
   "cell_type": "markdown",
   "id": "201c9772-fe77-494c-bd28-2ac2ebf304b6",
   "metadata": {},
   "source": [
    "### 🔹 문제 B-3\n",
    "R² 점수가 의미하는 바와 0.85, -0.3의 의미를 해석하세요.\n",
    "\n",
    "- R² 점수는 회귀 모델이 데이터를 얼마나 잘 설명하는지 나타내는 지표이다\n",
    "- 0.85는 모델이 데이터 변동의 85%를 설명한다는 뜻으로, 매우 좋은 성능을 의미한다\n",
    "-0.3은 모델이 오히려 평균값으로 예측하는 것보다도 못하다는 의미로, 모델의 성능이 매우 나쁨을 나타낸다"
   ]
  },
  {
   "cell_type": "markdown",
   "id": "7978afb2",
   "metadata": {},
   "source": [
    "## ✅ 미션 C. 붓꽃 전시회 준비!\n",
    "### 🔹 문제 C-1\n",
    "KNeighborsClassifier를 이용해 붓꽃 품종을 분류하고 정확도를 계산하세요."
   ]
  },
  {
   "cell_type": "code",
   "execution_count": 92,
   "id": "653ce949-744d-4d58-979f-0ba1dd3c453e",
   "metadata": {},
   "outputs": [
    {
     "name": "stdout",
     "output_type": "stream",
     "text": [
      "prediction result=[2 2 1 1 1 0 1 0 1 2 1 1 2 2 2 1 1 0 1 1 1 0 1 2 1 2 2 0 0 1 0 0 1 0 0 1 1\n",
      " 2]\n",
      "average accuracy score=0.9210526315789473\n",
      "rounded accuracy score=0.921\n"
     ]
    }
   ],
   "source": [
    "from sklearn.neighbors import KNeighborsClassifier\n",
    "\n",
    "# 스케일링된 데이터로 모델 학습\n",
    "clf = KNeighborsClassifier(n_neighbors=7)\n",
    "clf.fit(X_iris_train_scale, y_iris_train)\n",
    "\n",
    "# 테스트 데이터 예측\n",
    "result = clf.predict(X_iris_test_scale)\n",
    "print(f'prediction result={result}')\n",
    "\n",
    "# 평균 정확도 구하기\n",
    "avg_score = clf.score(X_iris_test_scale, y_iris_test)\n",
    "print(f'average accuracy score={avg_score}')\n",
    "\n",
    "# 소수점 반올림으로 정확도 계산\n",
    "print(f'rounded accuracy score={round(avg_score, 3)}')"
   ]
  },
  {
   "cell_type": "markdown",
   "id": "7f5b5636-762a-4086-8398-9e8b4f2f45cb",
   "metadata": {},
   "source": [
    "### 🔹 문제 C-2\n",
    "Confusion Matrix를 출력하고, 어떤 클래스끼리 혼동되었는지 시각적으로 분석하세요."
   ]
  },
  {
   "cell_type": "code",
   "execution_count": 93,
   "id": "aaaed86c-16f1-4771-9454-b8fe09d94037",
   "metadata": {
    "scrolled": true
   },
   "outputs": [
    {
     "name": "stdout",
     "output_type": "stream",
     "text": [
      "Confusion Matrix:\n",
      "[[10  0  0]\n",
      " [ 0 15  0]\n",
      " [ 0  3 10]]\n"
     ]
    },
    {
     "data": {
      "text/plain": [
       "<Figure size 800x600 with 0 Axes>"
      ]
     },
     "metadata": {},
     "output_type": "display_data"
    },
    {
     "data": {
      "image/png": "[encoded data removed]",
      "text/plain": [
       "<Figure size 640x480 with 2 Axes>"
      ]
     },
     "metadata": {},
     "output_type": "display_data"
    },
    {
     "name": "stdout",
     "output_type": "stream",
     "text": [
      "오분류된 샘플 수: 3\n",
      "\n",
      "오분류된 샘플 상세:\n",
      "샘플 #4: 실제 클래스 = virginica, 예측 클래스 = versicolor\n",
      "샘플 #32: 실제 클래스 = virginica, 예측 클래스 = versicolor\n",
      "샘플 #36: 실제 클래스 = virginica, 예측 클래스 = versicolor\n",
      "\n",
      "클래스 간 혼동 분석:\n",
      "virginica가 versicolor로 잘못 분류된 경우: 3회\n"
     ]
    }
   ],
   "source": [
    "from sklearn.metrics import confusion_matrix, ConfusionMatrixDisplay\n",
    "from sklearn.datasets import load_iris\n",
    "import matplotlib.pyplot as plt\n",
    "import numpy as np\n",
    "\n",
    "# 원래 iris 데이터셋에서 클래스 이름 가져오기\n",
    "iris_data = load_iris()\n",
    "class_names = iris_data.target_names\n",
    "\n",
    "# 혼동 행렬 계산\n",
    "cm = confusion_matrix(y_iris_test, result)\n",
    "print(\"Confusion Matrix:\")\n",
    "print(cm)\n",
    "\n",
    "# 혼동 행렬 시각화\n",
    "plt.figure(figsize=(8, 6))\n",
    "disp = ConfusionMatrixDisplay(confusion_matrix=cm, \n",
    "                              display_labels=class_names)\n",
    "disp.plot(cmap=plt.cm.Blues)\n",
    "plt.title('Confusion Matrix for Iris Dataset')\n",
    "plt.show()\n",
    "\n",
    "# 오분류된 샘플 분석\n",
    "misclassified = np.where(y_iris_test.values != result)[0]\n",
    "print(f\"오분류된 샘플 수: {len(misclassified)}\")\n",
    "\n",
    "if len(misclassified) > 0:\n",
    "    print(\"\\n오분류된 샘플 상세:\")\n",
    "    for idx in misclassified:\n",
    "        true_class = class_names[y_iris_test.iloc[idx]]\n",
    "        pred_class = class_names[result[idx]]\n",
    "        print(f\"샘플 #{idx}: 실제 클래스 = {true_class}, 예측 클래스 = {pred_class}\")\n",
    "        \n",
    "    # 어떤 클래스 간 혼동이 발생했는지 분석\n",
    "    print(\"\\n클래스 간 혼동 분석:\")\n",
    "    class_pairs = []bb\n",
    "    \n",
    "    for i in range(len(class_names)):\n",
    "        for j in range(len(class_names)):\n",
    "            if i != j:\n",
    "                count = sum(1 for idx in misclassified \n",
    "                           if y_iris_test.iloc[idx] == i and result[idx] == j)\n",
    "                if count > 0:\n",
    "                    class_pairs.append((class_names[i], class_names[j], count))\n",
    "    \n",
    "    for true_class, pred_class, count in class_pairs:\n",
    "        print(f\"{true_class}가 {pred_class}로 잘못 분류된 경우: {count}회\")"
   ]
  },
  {
   "cell_type": "markdown",
   "id": "6cffb47f",
   "metadata": {},
   "source": [
    "## ✅ 미션 D. 의외의 실험: 선형 회귀도 써보자!\n",
    "### 🔹 문제 D-1\n",
    "`LinearRegression`을 적용해 같은 데이터를 예측하고, KNN과의 R² 점수와 구조적 차이를 비교하세요."
   ]
  },
  {
   "cell_type": "markdown",
   "id": "692bda5c",
   "metadata": {},
   "source": [
    "## 🎁 보너스 질문\n",
    "- 거리 기반 모델에서 스케일링이 필요한 이유는?\n",
    "- KNN이 데이터가 많아질수록 느려지는 이유는?\n",
    "- 이를 개선할 수 있는 방법은?"
   ]
  }
 ],
 "metadata": {
  "kernelspec": {
   "display_name": "Python [conda env:base] *",
   "language": "python",
   "name": "conda-base-py"
  },
  "language_info": {
   "codemirror_mode": {
    "name": "ipython",
    "version": 3
   },
   "file_extension": ".py",
   "mimetype": "text/x-python",
   "name": "python",
   "nbconvert_exporter": "python",
   "pygments_lexer": "ipython3",
   "version": "3.12.3"
  }
 },
 "nbformat": 4,
 "nbformat_minor": 5
}
