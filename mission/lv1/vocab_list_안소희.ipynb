{
 "cells": [
  {
   "cell_type": "code",
   "execution_count": 112,
   "id": "e76cf6ca-11bd-43ca-a66c-f8b2711305fd",
   "metadata": {},
   "outputs": [],
   "source": [
    "import re\n",
    "sentences = {\n",
    "    'day1': [\n",
    "    \"Hello world, welcome to Python.\",\n",
    "    \"Python is fun and Python is powerful.\",\n",
    "    \"Hello everyone, have a great day!\"\n",
    "     ],\n",
    "    'day2': [\n",
    "    \"Hugging Face helps users integrate multiple ML frameworks\",\n",
    "    \"Prototyping. Hugging Face enables rapid prototyping and deployment of NLP and ML applications\",\n",
    "    \"the Transformer library integrates with other ML frameworks such as PyTorch and TensorFlow\"\n",
    "    ],\n",
    "}\n"
   ]
  },
  {
   "cell_type": "code",
   "execution_count": 114,
   "id": "f401127f-02b3-4414-bd3d-dd91f1b86ef6",
   "metadata": {},
   "outputs": [],
   "source": [
    "def unique_words(sentences):\n",
    "    set_sentences = set() # 빈 set 생성\n",
    "    for day in sentences.values():\n",
    "        for sentence in day:\n",
    "            cleaned = re.sub(r'[^\\w\\s]', '', sentence.lower()) #부호 제거, 소문자로 변환\n",
    "            set_sentences.update(cleaned.split()) # 공백으로 단어 분할하고 set에 추가 \n",
    "    return set_sentences"
   ]
  },
  {
   "cell_type": "code",
   "execution_count": 116,
   "id": "778bf1ce-bf9f-4c5a-af36-548ddb770746",
   "metadata": {},
   "outputs": [
    {
     "name": "stdout",
     "output_type": "stream",
     "text": [
      "{'everyone', 'to', 'world', 'and', 'a', 'other', 'nlp', 'applications', 'of', 'frameworks', 'ml', 'transformer', 'pytorch', 'tensorflow', 'with', 'library', 'as', 'helps', 'powerful', 'rapid', 'integrates', 'multiple', 'prototyping', 'fun', 'hello', 'is', 'face', 'enables', 'day', 'the', 'have', 'welcome', 'python', 'deployment', 'integrate', 'such', 'great', 'hugging', 'users'}\n"
     ]
    }
   ],
   "source": [
    "print(unique_words(sentences))"
   ]
  },
  {
   "cell_type": "code",
   "execution_count": null,
   "id": "ebcbcfa3-a727-4682-abc4-3f5cce3298da",
   "metadata": {},
   "outputs": [],
   "source": []
  }
 ],
 "metadata": {
  "kernelspec": {
   "display_name": "Python [conda env:base] *",
   "language": "python",
   "name": "conda-base-py"
  },
  "language_info": {
   "codemirror_mode": {
    "name": "ipython",
    "version": 3
   },
   "file_extension": ".py",
   "mimetype": "text/x-python",
   "name": "python",
   "nbconvert_exporter": "python",
   "pygments_lexer": "ipython3",
   "version": "3.12.7"
  }
 },
 "nbformat": 4,
 "nbformat_minor": 5
}
