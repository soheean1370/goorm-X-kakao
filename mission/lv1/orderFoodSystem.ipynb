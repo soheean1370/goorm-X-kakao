{
 "cells": [
  {
   "cell_type": "code",
   "execution_count": 1,
   "id": "6af2fc5f-c48f-4447-8459-1f53ec4043dc",
   "metadata": {},
   "outputs": [
    {
     "name": "stdout",
     "output_type": "stream",
     "text": [
      "메뉴판\n",
      " 1. Pizza - 12000원 \n",
      " 2. Burger - 8000원 \n",
      " 3. Pasta - 15000원 \n",
      " 4. Sushi - 20000원 \n",
      " 5. Salad - 6000원 \n"
     ]
    },
    {
     "name": "stdin",
     "output_type": "stream",
     "text": [
      "\n",
      "주문할 음식을 입력하세요(쉼표로 구분):  sushi, pasta, soda\n"
     ]
    },
    {
     "name": "stdout",
     "output_type": "stream",
     "text": [
      "\n",
      "주문내역\n",
      "1. Sushi - 20000원\n",
      "2. Pasta - 15000원\n",
      "3. 메뉴판에 없는 음식입니다\n",
      "\n",
      "총 가격\n",
      "총: 35000원\n"
     ]
    }
   ],
   "source": [
    "menu = [(\"Pizza\", 12000),(\"Burger\", 8000),(\"Pasta\", 15000),(\"Sushi\", 20000),(\"Salad\", 6000)]\n",
    "total = 0\n",
    "print(\"메뉴판\")\n",
    "for i in range(len(menu)):\n",
    "    print(f\" {i+1}. {menu[i][0]} - {menu[i][1]}원 \")\n",
    "    \n",
    "    \n",
    "lst = input(\"\\n주문할 음식을 입력하세요(쉼표로 구분): \" )\n",
    "foods = lst.strip().split(\",\")\n",
    "print(\"\\n주문내역\")\n",
    "for i,food in enumerate(foods):\n",
    "    food = food.strip()\n",
    "    price = 0\n",
    "    for item in menu:\n",
    "        if item[0].lower() == food.lower():\n",
    "            food = item[0]\n",
    "            price = item[1]\n",
    "            break\n",
    "    if price > 0 :\n",
    "        print(f\"{i+1}. {food} - {price}원\")\n",
    "    else:\n",
    "        print(f\"{i+1}. 메뉴판에 없는 음식입니다\")\n",
    "    total += price\n",
    "\n",
    "print(\"\\n총 가격\")\n",
    "print(f\"총: {total}원\")"
   ]
  },
  {
   "cell_type": "code",
   "execution_count": null,
   "id": "3020a1f6-f0b8-4d37-ae6b-59859c217a14",
   "metadata": {},
   "outputs": [],
   "source": []
  }
 ],
 "metadata": {
  "kernelspec": {
   "display_name": "Python [conda env:base] *",
   "language": "python",
   "name": "conda-base-py"
  },
  "language_info": {
   "codemirror_mode": {
    "name": "ipython",
    "version": 3
   },
   "file_extension": ".py",
   "mimetype": "text/x-python",
   "name": "python",
   "nbconvert_exporter": "python",
   "pygments_lexer": "ipython3",
   "version": "3.12.7"
  }
 },
 "nbformat": 4,
 "nbformat_minor": 5
}
