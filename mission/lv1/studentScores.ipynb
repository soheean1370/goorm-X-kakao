{
 "cells": [
  {
   "cell_type": "code",
   "execution_count": null,
   "id": "9fd13346-112e-40f5-893d-8cfb7e0fa81c",
   "metadata": {},
   "outputs": [],
   "source": [
    "#심화 연습 문제\n",
    "scores_data = \"\"\" 학생1: 홍길동, 성적: 85\n",
    "학생2: 김철수, 성적: 90\n",
    "학생3: 이영희, 성적: 78\n",
    "학생4: 박민지, 성적: 92\n",
    "학생5: 최준호, 성적: 88\"\"\"\n",
    "\n",
    "students_data = scores_data.strip().split('\\n')\n",
    "\n",
    "\n",
    "names = [] # 이름\n",
    "scores = [] # 점수\n",
    "\n",
    "for student_info in students_data:\n",
    "    parts = student_info.split(': ', 1)[1] #학생n 빼기 \n",
    "    print(parts)\n",
    "    name, score = parts.split(', 성적: ')\n",
    "    \n",
    "    names.append(name)\n",
    "    scores.append(int(score))\n",
    "\n",
    "print(\"학생 이름:\", names)\n",
    "print(\"학생 성적:\", scores)\n",
    "\n",
    "#평균 점수 계산\n",
    "average_score = sum(scores) / len(scores)\n",
    "print(f\"평균 점수: {average_score:.2f}\")"
   ]
  }
 ],
 "metadata": {
  "kernelspec": {
   "display_name": "Python [conda env:base] *",
   "language": "python",
   "name": "conda-base-py"
  },
  "language_info": {
   "codemirror_mode": {
    "name": "ipython",
    "version": 3
   },
   "file_extension": ".py",
   "mimetype": "text/x-python",
   "name": "python",
   "nbconvert_exporter": "python",
   "pygments_lexer": "ipython3",
   "version": "3.12.7"
  }
 },
 "nbformat": 4,
 "nbformat_minor": 5
}
