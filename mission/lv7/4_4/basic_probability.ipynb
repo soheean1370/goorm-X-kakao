{
 "cells": [
  {
   "cell_type": "markdown",
   "id": "c0790320-bdba-441d-9f55-45da2638b372",
   "metadata": {},
   "source": [
    "# 문제 1: probability\n",
    "## 주사위를 한 번 던져 3보다 큰 수가 나올 확률은?\n",
    "\n",
    "### solution\n",
    "3보다 큰 수-> 4,5,6 (3가지)<br>\n",
    "전체 경우의 수 = 1,2,3,4,5,6 (6가지)  <br>\n",
    "3보다 큰 수가 나올 확률 = 3/6 = **50%**  <br>"
   ]
  },
  {
   "cell_type": "code",
   "execution_count": 20,
   "id": "6d6f6cec-065e-4d7b-818a-705a6f76bdfe",
   "metadata": {},
   "outputs": [
    {
     "name": "stdout",
     "output_type": "stream",
     "text": [
      "3보다 큰 수가 나올 확률: 50.04%\n"
     ]
    }
   ],
   "source": [
    "import random\n",
    "\n",
    "total = 10000\n",
    "success = 0\n",
    "\n",
    "for i in range(total):\n",
    "    roll = random.randint(1,6)\n",
    "    if roll > 3:\n",
    "        success += 1\n",
    "\n",
    "prob = success/total\n",
    "print(f\"3보다 큰 수가 나올 확률: {prob:.2%}\")"
   ]
  },
  {
   "cell_type": "markdown",
   "id": "32d4eda2-f10c-4c15-a30b-fa4d20ed1bf5",
   "metadata": {},
   "source": [
    "# 문제 2: joint probability\n",
    "## 사과 7개, 오렌지 3개가 있다.\n",
    "## 첫 번째 오렌지를 꺼낸 후 두 번째도 오렌지일 확률은?\n",
    "\n",
    "### solution\n",
    "첫번째 과일이 오렌지일 경우 -> 3/10 <br>\n",
    "두번재 과일이 오렌지일 경우 -> 2/9<br>\n",
    "두개 연속 오렌지를 뽑을 확률 = (3/10 ) * (2/9) = **6.67%**"
   ]
  },
  {
   "cell_type": "code",
   "execution_count": 19,
   "id": "b09a9891-23d5-489e-9d15-93b6dd3b43d5",
   "metadata": {},
   "outputs": [
    {
     "name": "stdout",
     "output_type": "stream",
     "text": [
      "첫번째, 두번째가 오렌지일 확률: 6.38%\n"
     ]
    }
   ],
   "source": [
    "import random\n",
    "\n",
    "total = 10000\n",
    "success = 0\n",
    "\n",
    "for i in range(total):\n",
    "    fruits = ['사과'] * 7+ ['오렌지'] * 3\n",
    "    first = random.choice(fruits)\n",
    "    fruits.remove(first)\n",
    "    second = random.choice(fruits)\n",
    "    if first == '오렌지' and second == '오렌지':\n",
    "         success += 1\n",
    "\n",
    "prob = success / total\n",
    "print(f\"첫번째, 두번째가 오렌지일 확률: {prob:.2%}\")\n"
   ]
  },
  {
   "cell_type": "markdown",
   "id": "a9f8e8f1-667a-4b0c-bad7-bb51b2661dec",
   "metadata": {},
   "source": [
    "# 문제 3: basic statistics\n",
    "## 점수의 리스트  [70, 80, 90, 100, 85]의 평균, 중앙값, 표준편차?\n",
    "### solution\n",
    "\n",
    "평균: (70+80+90+100+85) / 5 = **85** <br>\n",
    "중앙값: **85** <br>\n",
    "표준편차: √((225+25+25+225+0) / 5) = **10** <br>"
   ]
  },
  {
   "cell_type": "code",
   "execution_count": 23,
   "id": "fdcb027d-2880-4e1b-85d3-e4cd7d5389e5",
   "metadata": {},
   "outputs": [
    {
     "name": "stdout",
     "output_type": "stream",
     "text": [
      "리스트의 평균: 85.00\n",
      "리스트의 중앙값: 85.00\n",
      "리스트의 표준편차: 10.00\n"
     ]
    }
   ],
   "source": [
    "import numpy\n",
    "\n",
    "score = [70, 80, 90, 100, 85]\n",
    "\n",
    "score_avg = numpy.mean(score)\n",
    "score_median = numpy.median(score)\n",
    "score_std = numpy.std(score)\n",
    "\n",
    "print(f\"리스트의 평균: {score_avg:.2f}\")\n",
    "print(f\"리스트의 중앙값: {score_median:.2f}\")\n",
    "print(f\"리스트의 표준편차: {score_std:.2f}\")"
   ]
  }
 ],
 "metadata": {
  "kernelspec": {
   "display_name": "Python [conda env:base] *",
   "language": "python",
   "name": "conda-base-py"
  },
  "language_info": {
   "codemirror_mode": {
    "name": "ipython",
    "version": 3
   },
   "file_extension": ".py",
   "mimetype": "text/x-python",
   "name": "python",
   "nbconvert_exporter": "python",
   "pygments_lexer": "ipython3",
   "version": "3.12.3"
  }
 },
 "nbformat": 4,
 "nbformat_minor": 5
}
