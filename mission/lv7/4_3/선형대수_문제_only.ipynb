{
 "cells": [
  {
   "cell_type": "markdown",
   "id": "122f1d27",
   "metadata": {},
   "source": [
    "# 데일리 미션 0403\n",
    "\n",
    "# 🧮 파이썬을 이용한 선형대수학 초급 문제\n",
    "이 노트북은 벡터 연산, 내적, 단위벡터, 직교성, 유클리드 거리, 코사인 유사도 등을 연습하기 위한 문제들로 구성되어 있습니다.\n",
    "답을 작성할 때 직접 손으로 푸는 방식과 파이썬 프로그램으로 푸는 방식 두가지 모두 적용해서 풀어야합니다."
   ]
  },
  {
   "cell_type": "markdown",
   "id": "63a47ff7",
   "metadata": {},
   "source": [
    "## ✅ 1. 벡터의 기본 연산\n",
    "다음 벡터 `v1 = [1, 2]`, `v2 = [3, 4]`에 대해 다음 연산을 수행하시오.\n",
    "\n",
    "1. 두 벡터의 합\n",
    "2. 두 벡터의 차\n",
    "3. v1의 크기 (norm)\n",
    "4. v2의 2배 스칼라 곱"
   ]
  },
  {
   "cell_type": "code",
   "execution_count": 1,
   "id": "38328ffd-e15c-48f3-8aea-db650f354420",
   "metadata": {},
   "outputs": [
    {
     "name": "stdout",
     "output_type": "stream",
     "text": [
      "벡터 합: [4 6]\n",
      "벡터 차: [-2 -2]\n",
      "v1의 크기: 2.23606797749979\n",
      "v2의 2배: [6 8]\n"
     ]
    }
   ],
   "source": [
    "import numpy as np\n",
    "\n",
    "v1 = np.array([1, 2])\n",
    "v2 = np.array([3, 4])\n",
    "\n",
    "# 1. 두 벡터의 합\n",
    "addition = np.add(v1, v2)\n",
    "\n",
    "# 2. 두 벡터의 차\n",
    "subtract = np.subtract(v1, v2)\n",
    "\n",
    "# 3. v1의 크기 \n",
    "norm = np.linalg.norm(v1)\n",
    "\n",
    "# 4. v2의 2배 스칼라 곱\n",
    "scalar_mult = 2 * v2\n",
    "\n",
    "print(\"벡터 합:\", addition)\n",
    "print(\"벡터 차:\", subtract)\n",
    "print(\"v1의 크기:\", norm)\n",
    "print(\"v2의 2배:\", scalar_mult)\n"
   ]
  },
  {
   "cell_type": "markdown",
   "id": "cfb0ccbf",
   "metadata": {},
   "source": [
    "## ✅ 2. 벡터의 내적 (dot product)\n",
    "다음 두 벡터의 내적을 구하시오.\n",
    "```python\n",
    "v1 = [2, 3]\n",
    "v2 = [4, -1]\n",
    "```"
   ]
  },
  {
   "cell_type": "code",
   "execution_count": 3,
   "id": "e753517f-845d-422a-a801-44b292548d0e",
   "metadata": {},
   "outputs": [
    {
     "name": "stdout",
     "output_type": "stream",
     "text": [
      "벡터 내적:  5\n"
     ]
    }
   ],
   "source": [
    "v1 = np.array([2,3])\n",
    "v2 = np.array([4,-1])\n",
    "\n",
    "dot_product = np.dot(v1,v2)\n",
    "\n",
    "print(\"벡터 내적: \", dot_product )"
   ]
  },
  {
   "cell_type": "markdown",
   "id": "94d9729b",
   "metadata": {},
   "source": [
    "## ✅ 3. 단위 벡터 구하기\n",
    "다음 벡터의 단위벡터(unit vector)를 구하시오.  \n",
    "```python\n",
    "v = [3, 4]\n",
    "```\n",
    "> 힌트: 단위벡터는 해당 벡터를 그 크기로 나누면 됩니다."
   ]
  },
  {
   "cell_type": "code",
   "execution_count": 5,
   "id": "42cdb870-4ae8-4880-bcde-944e47d5a27d",
   "metadata": {},
   "outputs": [
    {
     "name": "stdout",
     "output_type": "stream",
     "text": [
      "단위 벡터:  [0.6 0.8]\n"
     ]
    }
   ],
   "source": [
    "v = np.array([3,4])\n",
    "\n",
    "norm = np.linalg.norm(v)\n",
    "unit_vector = v/norm\n",
    "\n",
    "print(\"단위 벡터: \",unit_vector)"
   ]
  },
  {
   "cell_type": "markdown",
   "id": "4371e654",
   "metadata": {},
   "source": [
    "## ✅ 4. 직교 여부 확인\n",
    "다음 두 벡터가 직교(orthogonal)한지 확인하시오.\n",
    "```python\n",
    "v1 = [1, 2]\n",
    "v2 = [2, -1]\n",
    "```\n",
    "> 내적이 0이면 직교입니다."
   ]
  },
  {
   "cell_type": "code",
   "execution_count": 7,
   "id": "6d560325-2f73-4316-8c52-5ccf44bd2974",
   "metadata": {},
   "outputs": [
    {
     "name": "stdout",
     "output_type": "stream",
     "text": [
      "두 벡터는 직교한가?: True\n"
     ]
    }
   ],
   "source": [
    "v1 = np.array([1,2])\n",
    "v2 = np.array([2,-1])\n",
    "\n",
    "dot_product = np.dot(v1,v2)\n",
    "\n",
    "is_orthogonal = np.isclose(dot_product,0)\n",
    "\n",
    "print(\"두 벡터는 직교한가?:\",is_orthogonal)"
   ]
  },
  {
   "cell_type": "markdown",
   "id": "3b8ba7fb",
   "metadata": {},
   "source": [
    "## ✅ 5. 위치 벡터와 벡터 사이 거리\n",
    "다음 두 점의 위치 벡터를 `p1 = [1, 2]`, `p2 = [4, 6]`라고 할 때:\n",
    "\n",
    "1. 두 점 사이의 유클리드 거리(Euclidean distance)를 구하시오.\n",
    "2. 두 벡터의 차 벡터를 구하시오."
   ]
  },
  {
   "cell_type": "code",
   "execution_count": 11,
   "id": "f0c56bec-665e-4f6c-9208-90daf56998a0",
   "metadata": {},
   "outputs": [
    {
     "name": "stdout",
     "output_type": "stream",
     "text": [
      "유클리드 거리:  5.0\n",
      "벡터의 차 벡터:  [-3 -4]\n"
     ]
    }
   ],
   "source": [
    "p1 = np.array([1,2])\n",
    "p2 = np.array([4,6])\n",
    "\n",
    "euclidean_dist = np.sqrt(np.sum((p1 - p2) ** 2))\n",
    "\n",
    "print(\"유클리드 거리: \",euclidean_dist)\n",
    "print(\"벡터의 차 벡터: \",p1-p2)"
   ]
  },
  {
   "cell_type": "markdown",
   "id": "df6150b4",
   "metadata": {},
   "source": [
    "## ✅ 6. 코사인 유사도\n",
    "다음 두 벡터의 코사인 유사도(Cosine Similarity)를 구하시오.\n",
    "```python\n",
    "v1 = [1, 2]\n",
    "v2 = [2, 3]\n",
    "```\n",
    "> 힌트:  \n",
    "> $\\cos(\\theta) = \\frac{v1 \\cdot v2}{\\|v1\\| \\cdot \\|v2\\|}$"
   ]
  },
  {
   "cell_type": "code",
   "execution_count": 15,
   "id": "41a5075e-4367-4a76-b436-95027a724c93",
   "metadata": {},
   "outputs": [
    {
     "name": "stdout",
     "output_type": "stream",
     "text": [
      "두 벡터의 코사인 유사도: 0.9922778767136677\n"
     ]
    }
   ],
   "source": [
    "v1 = np.array([1,2])\n",
    "v2 = np.array([2,3])\n",
    "\n",
    "dot_product = np.dot(v1,v2)\n",
    "magnitude1 = np.linalg.norm(v1)\n",
    "magnitude2 = np.linalg.norm(v2)\n",
    "\n",
    "cosine_similarity = dot_product / (magnitude1 * magnitude2)\n",
    "print(\"두 벡터의 코사인 유사도:\",cosine_similarity)"
   ]
  },
  {
   "cell_type": "markdown",
   "id": "b7cbb532",
   "metadata": {},
   "source": [
    "## ✅ 7. 3차원 벡터 문제\n",
    "다음 3차원 벡터 `v1 = [1, 2, 3]`, `v2 = [-1, 0, 1]`에 대해:\n",
    "\n",
    "1. 두 벡터의 내적을 구하시오.  \n",
    "2. 두 벡터가 이루는 각의 코사인 값을 구하시오.  \n",
    "3. 두 벡터가 직교하는지 확인하시오."
   ]
  },
  {
   "cell_type": "code",
   "execution_count": 16,
   "id": "100a78f3-176e-4c6b-807b-a4673cc066d2",
   "metadata": {},
   "outputs": [
    {
     "name": "stdout",
     "output_type": "stream",
     "text": [
      "벡터의 내적: 2\n",
      "두 벡터의 코사인 유사도: 0.3779644730092272\n",
      "두 벡터는 직교한가?: False\n"
     ]
    }
   ],
   "source": [
    "v1 = np.array([1,2,3])\n",
    "v2 = np.array([-1,0,1])\n",
    "\n",
    "# 두 벡터의 내적\n",
    "dot_product = np.dot(v1,v2)\n",
    "magnitude1 = np.linalg.norm(v1)\n",
    "magnitude2 = np.linalg.norm(v2)\n",
    "\n",
    "#두 벡터가 이루는 각의 코사인 값\n",
    "cosine_similarity = dot_product / (magnitude1 * magnitude2)\n",
    "\n",
    "#두 벡터가 직교하는가\n",
    "is_orthogonal = np.isclose(dot_product,0)\n",
    "\n",
    "print(\"벡터의 내적:\", dot_product)\n",
    "print(\"두 벡터의 코사인 유사도:\",cosine_similarity)\n",
    "print(\"두 벡터는 직교한가?:\",is_orthogonal)"
   ]
  },
  {
   "cell_type": "markdown",
   "id": "4d164400",
   "metadata": {},
   "source": [
    "## ✅ 8. 응용 문제: 문서 유사도\n",
    "TF-IDF 벡터로 표현된 다음 문서 벡터가 있을 때, 유사도를 비교하시오.\n",
    "```python\n",
    "doc1 = [0.1, 0.3, 0.6]\n",
    "doc2 = [0.2, 0.1, 0.7]\n",
    "doc3 = [0.9, 0.8, 0.1]\n",
    "```\n",
    "- doc1과 doc2, doc1과 doc3의 코사인 유사도를 각각 계산하고, 어떤 문서가 doc1에 더 유사한지 판단하시오."
   ]
  },
  {
   "cell_type": "code",
   "execution_count": 1,
   "id": "8453179b-3f3a-4f40-b622-7dcc7aa67c8d",
   "metadata": {},
   "outputs": [
    {
     "name": "stdout",
     "output_type": "stream",
     "text": [
      "문서 1과 문서2의 유사도: 0.9430225158385255\n",
      "문서 1과 문서3의 유사도: 0.47589294144929556\n",
      "문서 2가 문서 1에 더 유사합니다.\n"
     ]
    }
   ],
   "source": [
    "import numpy as np\n",
    "from numpy import dot\n",
    "from numpy.linalg import norm\n",
    "\n",
    "def cosine_similarity(A, B):\n",
    "    return dot(A, B)/(norm(A)*norm(B))\n",
    "\n",
    "doc1 = np.array([0.1, 0.3, 0.6])\n",
    "doc2 = np.array([0.2, 0.1, 0.7])\n",
    "doc3 = np.array([0.9, 0.8, 0.1])\n",
    "\n",
    "similarity_doc1_doc2 = cosine_similarity(doc1, doc2)\n",
    "similarity_doc1_doc3 = cosine_similarity(doc1, doc3)\n",
    "\n",
    "print('문서 1과 문서2의 유사도:', similarity_doc1_doc2)\n",
    "print('문서 1과 문서3의 유사도:', similarity_doc1_doc3)\n",
    "\n",
    "# 어떤 문서가 문서 1에 더 유사한지 판단\n",
    "if similarity_doc1_doc2 > similarity_doc1_doc3:\n",
    "    print(\"문서 2가 문서 1에 더 유사합니다.\")\n",
    "elif similarity_doc1_doc2 < similarity_doc1_doc3:\n",
    "    print(\"문서 3이 문서 1에 더 유사합니다.\")\n",
    "else:\n",
    "    print(\"문서 2와 문서 3은 문서 1에 동일한 유사도를 가집니다.\")"
   ]
  },
  {
   "cell_type": "code",
   "execution_count": null,
   "id": "9552d852",
   "metadata": {},
   "outputs": [],
   "source": []
  }
 ],
 "metadata": {
  "kernelspec": {
   "display_name": "Python 3",
   "language": "python",
   "name": "python3"
  },
  "language_info": {
   "codemirror_mode": {
    "name": "ipython",
    "version": 3
   },
   "file_extension": ".py",
   "mimetype": "text/x-python",
   "name": "python",
   "nbconvert_exporter": "python",
   "pygments_lexer": "ipython3",
   "version": "3.13.2"
  }
 },
 "nbformat": 4,
 "nbformat_minor": 5
}
