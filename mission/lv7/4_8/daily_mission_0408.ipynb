{
 "cells": [
  {
   "cell_type": "markdown",
   "id": "7dac56e4",
   "metadata": {},
   "source": [
    "# 문제 1. 배열의 합 구하기"
   ]
  },
  {
   "cell_type": "markdown",
   "id": "9fd97e9d",
   "metadata": {},
   "source": [
    "**문제 설명:**\n",
    "\n",
    "정수로 구성된 배열이 주어졌을 때, 배열의 합을 구하는 최적의 함수를 작성하시오.\n",
    "\n",
    "입력 예시: [1, 2, 3, 4, 5]\n",
    "출력 예시: 15"
   ]
  },
  {
   "cell_type": "code",
   "execution_count": null,
   "id": "f9c644a1-13c7-4bd6-809c-2ff4ff63ee49",
   "metadata": {},
   "outputs": [],
   "source": [
    "lst = list(map(int,input().split()))\n",
    "\n",
    "def lst_sum(lst):\n",
    "    total = 0\n",
    "    for i in lst:\n",
    "        total += i\n",
    "    return total\n",
    "    \n",
    "print(\"배열의 총 합: \",lst_sum(lst))"
   ]
  },
  {
   "cell_type": "markdown",
   "id": "ec3b8d7e",
   "metadata": {},
   "source": [
    "# 문제 2. 배열 뒤집기"
   ]
  },
  {
   "cell_type": "markdown",
   "id": "38b37ca1",
   "metadata": {},
   "source": [
    "**문제 설명:**\n",
    "\n",
    "주어진 배열을 뒤집은 새로운 배열을 반환하는 함수를 2가지 이상의 구현방식으로 작성하고 이들간의 특성을 비교해보하시오.\n",
    "\n",
    "입력 예시: [1, 2, 3, 4]\n",
    "출력 예시: [4, 3, 2, 1]"
   ]
  },
  {
   "cell_type": "code",
   "execution_count": 18,
   "id": "fddab2fd-9b56-4965-98a8-538f26f349ad",
   "metadata": {},
   "outputs": [
    {
     "name": "stdin",
     "output_type": "stream",
     "text": [
      " 1 2 3 4\n"
     ]
    },
    {
     "name": "stdout",
     "output_type": "stream",
     "text": [
      "index method:  [4, 3, 2, 1]\n",
      "reverse method:  [4, 3, 2, 1]\n"
     ]
    }
   ],
   "source": [
    "lst = list(map(int,input().split()))\n",
    "\n",
    "# arr[::-1]\n",
    "def index_lst(lst):\n",
    "    return lst[::-1]\n",
    "\n",
    "# reversed\n",
    "def reversed_lst(lst):\n",
    "    return list(reversed(lst))\n",
    "\n",
    "print(\"index method: \",index_lst(lst))\n",
    "print(\"reverse method: \",reversed_lst(lst))"
   ]
  },
  {
   "cell_type": "markdown",
   "id": "4e03e35f",
   "metadata": {},
   "source": [
    "# 문제 3. 10진수를 2진수로 변환하기"
   ]
  },
  {
   "cell_type": "markdown",
   "id": "15406f07",
   "metadata": {},
   "source": [
    "**문제 설명:**\n",
    "\n",
    "0 이상의 10진수 정수를 입력 받아 2진수 문자열로 반환하는 함수를 작성하시오.\n",
    "\n",
    "입력 예시: 13\n",
    "출력 예시: '1101'"
   ]
  },
  {
   "cell_type": "code",
   "execution_count": 2,
   "id": "f096d6ac-c5ba-4b2f-9926-fa1ccc3aa6cc",
   "metadata": {},
   "outputs": [
    {
     "name": "stdin",
     "output_type": "stream",
     "text": [
      " 13\n"
     ]
    },
    {
     "name": "stdout",
     "output_type": "stream",
     "text": [
      "1101\n"
     ]
    }
   ],
   "source": [
    "decimal = int(input())\n",
    "\n",
    "def dec_to_bin(decimal):\n",
    "    binary_digits = []\n",
    "    while decimal > 0:\n",
    "        remainder = decimal % 2\n",
    "        binary_digits.append(str(remainder))  \n",
    "        decimal = decimal // 2                \n",
    "\n",
    "    binary_digits.reverse()  \n",
    "    return ''.join(binary_digits)\n",
    "\n",
    "print(dec_to_bin(decimal))\n"
   ]
  },
  {
   "cell_type": "markdown",
   "id": "81ab20a6",
   "metadata": {},
   "source": [
    "# 문제 4. 2진수를 10진수로 변환하기"
   ]
  },
  {
   "cell_type": "markdown",
   "id": "0bae5b92",
   "metadata": {},
   "source": [
    "**문제 설명:**\n",
    "\n",
    "2진수 문자열을 입력 받아 10진수 정수로 반환하는 함수를 작성하시오.\n",
    "\n",
    "입력 예시: '1101'\n",
    "출력 예시: 13"
   ]
  },
  {
   "cell_type": "code",
   "execution_count": 3,
   "id": "c4ef66f1-e9e5-46dc-86b1-f4d0b6d68f22",
   "metadata": {},
   "outputs": [
    {
     "name": "stdin",
     "output_type": "stream",
     "text": [
      " 1101\n"
     ]
    },
    {
     "name": "stdout",
     "output_type": "stream",
     "text": [
      "13\n"
     ]
    }
   ],
   "source": [
    "binary = input()\n",
    "\n",
    "def bin_to_dec(binary):\n",
    "    dec = 0\n",
    "    binary = binary[::-1]  \n",
    "    for i in range(len(binary)):\n",
    "        if binary[i] == '1' :\n",
    "            dec += 2 ** i\n",
    "    return dec\n",
    "\n",
    "print(bin_to_dec(binary))\n"
   ]
  },
  {
   "cell_type": "markdown",
   "id": "42bc5142",
   "metadata": {},
   "source": [
    "# 문제 5. 소수 판별하기"
   ]
  },
  {
   "cell_type": "markdown",
   "id": "2bacbb00",
   "metadata": {},
   "source": [
    "**문제 설명:**\n",
    "\n",
    "주어진 정수가 소수(prime number)인지 확인하는 함수를 작성하시오.\n",
    "\n",
    "입력 예시: 17\n",
    "출력 예시: True"
   ]
  },
  {
   "cell_type": "code",
   "execution_count": 12,
   "id": "2f5fd87c-2535-4ef9-b552-6f7a00db9591",
   "metadata": {},
   "outputs": [
    {
     "name": "stdin",
     "output_type": "stream",
     "text": [
      " 6\n"
     ]
    },
    {
     "name": "stdout",
     "output_type": "stream",
     "text": [
      "6은 소수인가요?: False\n"
     ]
    }
   ],
   "source": [
    "n = int(input())\n",
    "\n",
    "def is_prime(n):\n",
    "    if n <= 1:\n",
    "        return False\n",
    "    for i in range(2, n):\n",
    "        if n % i == 0:\n",
    "            return False\n",
    "    return True\n",
    "\n",
    "print(\"{}은 소수인가요?: {}\".format(n,is_prime(n)))\n",
    "    "
   ]
  },
  {
   "cell_type": "markdown",
   "id": "c96372d4",
   "metadata": {},
   "source": [
    "# 문제 6. 주어진 범위에서 소수 찾기"
   ]
  },
  {
   "cell_type": "markdown",
   "id": "2c8d6086",
   "metadata": {},
   "source": [
    "**문제 설명:**\n",
    "\n",
    "주어진 범위 [start, end]에서 모든 소수를 리스트로 반환하시오.\n",
    "\n",
    "입력 예시: start = 10, end = 20\n",
    "출력 예시: [11, 13, 17, 19]"
   ]
  },
  {
   "cell_type": "code",
   "execution_count": 16,
   "id": "bdf330cb-ffde-4168-a6fb-6712cc905ca9",
   "metadata": {},
   "outputs": [
    {
     "name": "stdin",
     "output_type": "stream",
     "text": [
      " 10\n",
      " 20\n"
     ]
    },
    {
     "name": "stdout",
     "output_type": "stream",
     "text": [
      "10에서 20사이 모든 소수:  [11, 13, 17, 19]\n"
     ]
    }
   ],
   "source": [
    "start = int(input())\n",
    "end = int(input())\n",
    "\n",
    "def is_prime(n):\n",
    "    if n <= 1:\n",
    "        return False\n",
    "    for i in range(2, n):\n",
    "        if n % i == 0:\n",
    "            return False\n",
    "    return True\n",
    "\n",
    "\n",
    "def find_prime(s,e):\n",
    "    answer = []\n",
    "    for i in range(s,e+1):\n",
    "        if is_prime(i) == True:\n",
    "            answer.append(i)\n",
    "    return answer\n",
    "\n",
    "print(f'{start}에서 {end}사이 모든 소수: ',find_prime(start,end))"
   ]
  }
 ],
 "metadata": {
  "kernelspec": {
   "display_name": "Python [conda env:base] *",
   "language": "python",
   "name": "conda-base-py"
  },
  "language_info": {
   "codemirror_mode": {
    "name": "ipython",
    "version": 3
   },
   "file_extension": ".py",
   "mimetype": "text/x-python",
   "name": "python",
   "nbconvert_exporter": "python",
   "pygments_lexer": "ipython3",
   "version": "3.12.3"
  }
 },
 "nbformat": 4,
 "nbformat_minor": 5
}
