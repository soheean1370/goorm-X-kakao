{
 "cells": [
  {
   "cell_type": "markdown",
   "id": "b119eb50",
   "metadata": {},
   "source": [
    "# 데일리 미션 0407"
   ]
  },
  {
   "cell_type": "markdown",
   "id": "8494ab6d",
   "metadata": {},
   "source": [
    "## 1. 리스트에서 최댓값 구하기 (max 함수 사용 금지)\n",
    "\n",
    "**문제 설명:**\n",
    "사용자로부터 N개의 정수를 입력받아 리스트에 저장한 뒤, 가장 큰 값을 찾아 출력하세요.\n",
    "단, 내장 함수 max()를 사용하지 말고 직접 비교 알고리즘을 구현하세요."
   ]
  },
  {
   "cell_type": "code",
   "execution_count": null,
   "id": "b1823ff5-382f-42a4-b8de-8ce9e730266d",
   "metadata": {},
   "outputs": [],
   "source": [
    "lst = list(map(int, input().split()))\n",
    "max_val = lst[0]\n",
    "for i in lst[1:]:\n",
    "    if i > max_val:\n",
    "        max_val = i\n",
    "print(\"리스트에서 최댓값:\", max_val)"
   ]
  },
  {
   "cell_type": "markdown",
   "id": "144d9978",
   "metadata": {},
   "source": [
    "## 2. 짝수만 필터링하여 리스트에 저장하기\n",
    "\n",
    "**문제 설명:**\n",
    "사용자로부터 정수를 입력받아 짝수만 리스트에 저장하고 출력하세요."
   ]
  },
  {
   "cell_type": "code",
   "execution_count": 27,
   "id": "57999283-0892-49c0-9c2f-7243209e8040",
   "metadata": {},
   "outputs": [
    {
     "name": "stdin",
     "output_type": "stream",
     "text": [
      " 1 2 3 4 5 6\n"
     ]
    },
    {
     "name": "stdout",
     "output_type": "stream",
     "text": [
      "짝수 리스트: [2, 4, 6]\n"
     ]
    }
   ],
   "source": [
    "lst = list(map(int,input().split()))\n",
    "even_lst = []\n",
    "for i in lst:\n",
    "    if i%2 == 0:\n",
    "        even_lst.append(i)\n",
    "\n",
    "print(\"짝수 리스트:\",even_lst)\n",
    "        "
   ]
  },
  {
   "cell_type": "markdown",
   "id": "7427a979",
   "metadata": {},
   "source": [
    "## 3. 반복문과 수학 공식으로 1부터 N까지 합 구하기\n",
    "\n",
    "**문제 설명:**\n",
    "1부터 N까지의 합을 반복문으로 구한 값과 수학 공식을 이용한 값을 각각 출력해 비교하세요."
   ]
  },
  {
   "cell_type": "code",
   "execution_count": 14,
   "id": "727e0e03-944e-4e7d-af0c-14d50e70d33e",
   "metadata": {},
   "outputs": [
    {
     "name": "stdin",
     "output_type": "stream",
     "text": [
      " 10\n"
     ]
    },
    {
     "name": "stdout",
     "output_type": "stream",
     "text": [
      "반복문: 55\n",
      "수학 공식: 55\n"
     ]
    }
   ],
   "source": [
    "n = int(input())\n",
    "sum_value = 0\n",
    "for i in range(1,n+1):\n",
    "    sum_value += i\n",
    "\n",
    "formula = n * (n+1) // 2\n",
    "\n",
    "print(\"반복문:\",sum_value)\n",
    "print(\"수학 공식:\",formula)"
   ]
  },
  {
   "cell_type": "markdown",
   "id": "1c0cd26a",
   "metadata": {},
   "source": [
    "## 4. 숫자 맞추기 게임 (입력 제한 및 기록 저장)\n",
    "\n",
    "**문제 설명:**\n",
    "정답 숫자를 맞출 때까지 입력을 받고, 최대 7회까지만 시도할 수 있습니다. 모든 입력 기록을 리스트에 저장한 후 출력하세요."
   ]
  },
  {
   "cell_type": "code",
   "execution_count": 28,
   "id": "a8c6b94d-4bb1-4c37-91ce-a044a1604d99",
   "metadata": {},
   "outputs": [
    {
     "name": "stdin",
     "output_type": "stream",
     "text": [
      " 1\n"
     ]
    },
    {
     "name": "stdout",
     "output_type": "stream",
     "text": [
      "틀렸습니다\n"
     ]
    },
    {
     "name": "stdin",
     "output_type": "stream",
     "text": [
      " 2\n"
     ]
    },
    {
     "name": "stdout",
     "output_type": "stream",
     "text": [
      "틀렸습니다\n"
     ]
    },
    {
     "name": "stdin",
     "output_type": "stream",
     "text": [
      " 3\n"
     ]
    },
    {
     "name": "stdout",
     "output_type": "stream",
     "text": [
      "틀렸습니다\n"
     ]
    },
    {
     "name": "stdin",
     "output_type": "stream",
     "text": [
      " 4\n"
     ]
    },
    {
     "name": "stdout",
     "output_type": "stream",
     "text": [
      "틀렸습니다\n"
     ]
    },
    {
     "name": "stdin",
     "output_type": "stream",
     "text": [
      " 90\n"
     ]
    },
    {
     "name": "stdout",
     "output_type": "stream",
     "text": [
      "정답입니다\n",
      "입력 기록: [1, 2, 3, 4, 90]\n"
     ]
    }
   ],
   "source": [
    "num = 90\n",
    "chances = 7\n",
    "lst = []\n",
    "while chances > 0:\n",
    "    guess = int(input())\n",
    "    lst.append(guess)\n",
    "    if guess == num:\n",
    "        print(\"정답입니다\")\n",
    "        break\n",
    "    else:\n",
    "        print(\"틀렸습니다\")\n",
    "        chances -= 1\n",
    "print(\"입력 기록:\", lst)"
   ]
  },
  {
   "cell_type": "markdown",
   "id": "1c64e729",
   "metadata": {},
   "source": [
    "## 5. 다중 조건 분기 처리\n",
    "\n",
    "**문제 설명:**\n",
    "정수를 입력받아 2의 배수면 2배, 3의 배수면 3배, 둘 다 아니면 1을 더해 출력하세요."
   ]
  },
  {
   "cell_type": "code",
   "execution_count": 29,
   "id": "dee7c476-4668-434d-82e3-da6e5c16e88c",
   "metadata": {},
   "outputs": [
    {
     "name": "stdin",
     "output_type": "stream",
     "text": [
      " 6\n"
     ]
    },
    {
     "name": "stdout",
     "output_type": "stream",
     "text": [
      "36\n"
     ]
    }
   ],
   "source": [
    "n = int(input())\n",
    "if n % 2 == 0 and n % 3 == 0:\n",
    "    n *= 6 \n",
    "elif n % 2 == 0:\n",
    "    n *= 2\n",
    "elif n % 3 == 0:\n",
    "    n *= 3\n",
    "else:\n",
    "    n += 1\n",
    "print(n)"
   ]
  }
 ],
 "metadata": {
  "kernelspec": {
   "display_name": "Python [conda env:base] *",
   "language": "python",
   "name": "conda-base-py"
  },
  "language_info": {
   "codemirror_mode": {
    "name": "ipython",
    "version": 3
   },
   "file_extension": ".py",
   "mimetype": "text/x-python",
   "name": "python",
   "nbconvert_exporter": "python",
   "pygments_lexer": "ipython3",
   "version": "3.12.3"
  }
 },
 "nbformat": 4,
 "nbformat_minor": 5
}
