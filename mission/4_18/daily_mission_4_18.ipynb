{
 "cells": [
  {
   "cell_type": "markdown",
   "id": "c9d0890b-abe7-4a53-9ca8-e89889324830",
   "metadata": {},
   "source": [
    "# EDA"
   ]
  },
  {
   "cell_type": "code",
   "execution_count": 1,
   "id": "15e07edb-39ec-488e-8a16-0490820a1c6f",
   "metadata": {},
   "outputs": [
    {
     "name": "stdout",
     "output_type": "stream",
     "text": [
      "   PassengerId  Survived  Pclass  \\\n",
      "0            1         0       3   \n",
      "1            2         1       1   \n",
      "2            3         1       3   \n",
      "3            4         1       1   \n",
      "4            5         0       3   \n",
      "\n",
      "                                                Name     Sex   Age  SibSp  \\\n",
      "0                            Braund, Mr. Owen Harris    male  22.0      1   \n",
      "1  Cumings, Mrs. John Bradley (Florence Briggs Th...  female  38.0      1   \n",
      "2                             Heikkinen, Miss. Laina  female  26.0      0   \n",
      "3       Futrelle, Mrs. Jacques Heath (Lily May Peel)  female  35.0      1   \n",
      "4                           Allen, Mr. William Henry    male  35.0      0   \n",
      "\n",
      "   Parch            Ticket     Fare Cabin Embarked  \n",
      "0      0         A/5 21171   7.2500   NaN        S  \n",
      "1      0          PC 17599  71.2833   C85        C  \n",
      "2      0  STON/O2. 3101282   7.9250   NaN        S  \n",
      "3      0            113803  53.1000  C123        S  \n",
      "4      0            373450   8.0500   NaN        S  \n",
      "<class 'pandas.core.frame.DataFrame'>\n",
      "RangeIndex: 891 entries, 0 to 890\n",
      "Data columns (total 12 columns):\n",
      " #   Column       Non-Null Count  Dtype  \n",
      "---  ------       --------------  -----  \n",
      " 0   PassengerId  891 non-null    int64  \n",
      " 1   Survived     891 non-null    int64  \n",
      " 2   Pclass       891 non-null    int64  \n",
      " 3   Name         891 non-null    object \n",
      " 4   Sex          891 non-null    object \n",
      " 5   Age          714 non-null    float64\n",
      " 6   SibSp        891 non-null    int64  \n",
      " 7   Parch        891 non-null    int64  \n",
      " 8   Ticket       891 non-null    object \n",
      " 9   Fare         891 non-null    float64\n",
      " 10  Cabin        204 non-null    object \n",
      " 11  Embarked     889 non-null    object \n",
      "dtypes: float64(2), int64(5), object(5)\n",
      "memory usage: 83.7+ KB\n",
      "None\n",
      "       PassengerId    Survived      Pclass         Age       SibSp  \\\n",
      "count   891.000000  891.000000  891.000000  714.000000  891.000000   \n",
      "mean    446.000000    0.383838    2.308642   29.699118    0.523008   \n",
      "std     257.353842    0.486592    0.836071   14.526497    1.102743   \n",
      "min       1.000000    0.000000    1.000000    0.420000    0.000000   \n",
      "25%     223.500000    0.000000    2.000000   20.125000    0.000000   \n",
      "50%     446.000000    0.000000    3.000000   28.000000    0.000000   \n",
      "75%     668.500000    1.000000    3.000000   38.000000    1.000000   \n",
      "max     891.000000    1.000000    3.000000   80.000000    8.000000   \n",
      "\n",
      "            Parch        Fare  \n",
      "count  891.000000  891.000000  \n",
      "mean     0.381594   32.204208  \n",
      "std      0.806057   49.693429  \n",
      "min      0.000000    0.000000  \n",
      "25%      0.000000    7.910400  \n",
      "50%      0.000000   14.454200  \n",
      "75%      0.000000   31.000000  \n",
      "max      6.000000  512.329200  \n",
      "결측치 수:\n",
      " PassengerId      0\n",
      "Survived         0\n",
      "Pclass           0\n",
      "Name             0\n",
      "Sex              0\n",
      "Age            177\n",
      "SibSp            0\n",
      "Parch            0\n",
      "Ticket           0\n",
      "Fare             0\n",
      "Cabin          687\n",
      "Embarked         2\n",
      "dtype: int64\n",
      "생존자 수:\n",
      " Survived\n",
      "0    549\n",
      "1    342\n",
      "Name: count, dtype: int64\n"
     ]
    }
   ],
   "source": [
    "import pandas as pd\n",
    "\n",
    "# 데이터 로드\n",
    "url = 'https://raw.githubusercontent.com/datasciencedojo/datasets/master/titanic.csv'\n",
    "df = pd.read_csv(url)\n",
    "\n",
    "# 기본 정보 확인\n",
    "print(df.head())\n",
    "print(df.info())\n",
    "print(df.describe())\n",
    "\n",
    "# 결측치 확인\n",
    "print(\"결측치 수:\\n\", df.isnull().sum())\n",
    "\n",
    "# Survived 클래스별 분포\n",
    "print(\"생존자 수:\\n\", df['Survived'].value_counts())\n"
   ]
  },
  {
   "cell_type": "markdown",
   "id": "b85c01da-46d1-44af-bbab-99a4b6ec7b8e",
   "metadata": {},
   "source": [
    "# Preprocessing"
   ]
  },
  {
   "cell_type": "code",
   "execution_count": 2,
   "id": "781a0f49-3929-4693-ac1a-5849bd19d92a",
   "metadata": {},
   "outputs": [],
   "source": [
    "# Age 결측치는 중앙값으로 채우기\n",
    "df['Age'] = df['Age'].fillna(df['Age'].median())\n",
    "\n",
    "# Embarked 결측치는 최빈값으로 채우기\n",
    "df['Embarked'] = df['Embarked'].fillna(df['Embarked'].mode()[0])\n",
    "\n",
    "# Sex, Embarked → 숫자 인코딩\n",
    "df['Sex'] = df['Sex'].map({'male': 0, 'female': 1})\n",
    "df['Embarked'] = df['Embarked'].map({'S': 0, 'C': 1, 'Q': 2})\n",
    "\n",
    "# 필요 없는 컬럼 제거\n",
    "df.drop(columns=['Name', 'Ticket', 'Cabin'], inplace=True)"
   ]
  },
  {
   "cell_type": "markdown",
   "id": "76178ee5-f23e-4e60-b6ed-e98fcaec3820",
   "metadata": {},
   "source": [
    "# 피처와 타겟 설정"
   ]
  },
  {
   "cell_type": "code",
   "execution_count": 3,
   "id": "bff7800a-7b31-4309-acb1-63c2f0244b41",
   "metadata": {},
   "outputs": [],
   "source": [
    "from sklearn.model_selection import train_test_split\n",
    "\n",
    "# 피처와 타겟 설정\n",
    "X = df[['Pclass', 'Sex', 'Age', 'SibSp', 'Parch', 'Fare', 'Embarked']]\n",
    "y = df['Survived']\n",
    "\n",
    "# 학습/테스트 데이터 분할\n",
    "X_train, X_test, y_train, y_test = train_test_split(\n",
    "    X, y, test_size=0.2, random_state=42, stratify=y\n",
    ")"
   ]
  },
  {
   "cell_type": "markdown",
   "id": "93edc18c-d788-42c3-8586-037b3a3589ea",
   "metadata": {},
   "source": [
    "# 모델 훈련 및 평가"
   ]
  },
  {
   "cell_type": "code",
   "execution_count": 4,
   "id": "b41e2f0f-45e6-46e7-809c-5aa202b24ea0",
   "metadata": {},
   "outputs": [
    {
     "name": "stdout",
     "output_type": "stream",
     "text": [
      "Logistic Regression 정확도: 0.799\n",
      "Confusion Matrix (Logistic Regression):\n",
      " [[97 13]\n",
      " [23 46]]\n",
      "Naive Bayes 정확도: 0.788\n",
      "Confusion Matrix (Naive Bayes):\n",
      " [[93 17]\n",
      " [21 48]]\n"
     ]
    }
   ],
   "source": [
    "from sklearn.linear_model import LogisticRegression\n",
    "from sklearn.naive_bayes import GaussianNB\n",
    "from sklearn.metrics import accuracy_score, confusion_matrix\n",
    "\n",
    "# 로지스틱 회귀\n",
    "logreg = LogisticRegression(solver='liblinear')\n",
    "logreg.fit(X_train, y_train)\n",
    "logreg_preds = logreg.predict(X_test)\n",
    "print(\"Logistic Regression 정확도:\", round(accuracy_score(y_test, logreg_preds), 3))\n",
    "print(\"Confusion Matrix (Logistic Regression):\\n\", confusion_matrix(y_test, logreg_preds))\n",
    "\n",
    "# 나이브 베이즈\n",
    "gnb = GaussianNB()\n",
    "gnb.fit(X_train, y_train)\n",
    "gnb_preds = gnb.predict(X_test)\n",
    "print(\"Naive Bayes 정확도:\", round(accuracy_score(y_test, gnb_preds), 3))\n",
    "print(\"Confusion Matrix (Naive Bayes):\\n\", confusion_matrix(y_test, gnb_preds))\n"
   ]
  },
  {
   "cell_type": "markdown",
   "id": "ad8b71d0-d894-467b-b66e-e9f38e15a7a6",
   "metadata": {},
   "source": [
    "## 모델 성능 비교 및 요약\n",
    "\n",
    "타이타닉 탑승객 데이터를 바탕으로 Logistic Regression와 Gaussian Naive Bayes 모델을 비교 분석하였다. 두 모델 모두 이진 분류 문제 해결에 널리 사용되는 알고리즘으로, 실제 데이터에 적용해 성능을 확인해 보았다.\n",
    "\n",
    "### 정확도 및 혼동 행렬\n",
    "\n",
    "| 모델                    | 정확도 | 오탐(False Positive) | 미탐(False Negative) |\n",
    "|-------------------------|--------|----------------------|-----------------------|\n",
    "| Logistic Regression     | 0.799  | 13                   | 23                    |\n",
    "| Gaussian Naive Bayes    | 0.788  | 17                   | 21                    |\n",
    "\n",
    "- Logistic Regression Confusion Matrix\n",
    "```\n",
    "  [[97 13]\n",
    "   [23 46]]\n",
    "```\n",
    "\n",
    "\n",
    "- Naive Bayes Confusion Matrix\n",
    "  ```\n",
    "  [[93 17]\n",
    "   [21 48]]\n",
    "  ```\n",
    "\n",
    "### 요약 및 해석\n",
    "\n",
    "- **로지스틱 회귀**는 전체 정확도 면에서 약간 앞섰으며, 오탐/미탐의 균형도 상대적으로 안정적이었다.\n",
    "- **가우시안 나이브 베이즈**는 속도나 단순성 면에서 장점이 있으나, 입력 특성 간의 독립성을 가정하기 때문에 실제 데이터에서는 다소 성능 저하가 발생할 수 있다.\n",
    "- 전체적으로는 로지스틱 회귀가 더 신뢰할 수 있는 예측 결과를 보여주었다.\n",
    "\n",
    "### 개선 아이디어\n",
    "\n",
    "- 다른 분류 모델(SVM, 랜덤 포레스트 등)도 실험하여 비교 성능을 분석해 볼 수 있다.\n",
    "- 특성 공학(feature engineering)을 통해 추가적인 정보를 반영하면 정확도를 높일 수 있다.\n",
    "- 교차 검증과 하이퍼파라미터 튜닝을 적용해 일반화 성능을 향상시킬 여지도 있다.\n"
   ]
  }
 ],
 "metadata": {
  "kernelspec": {
   "display_name": "Python [conda env:base] *",
   "language": "python",
   "name": "conda-base-py"
  },
  "language_info": {
   "codemirror_mode": {
    "name": "ipython",
    "version": 3
   },
   "file_extension": ".py",
   "mimetype": "text/x-python",
   "name": "python",
   "nbconvert_exporter": "python",
   "pygments_lexer": "ipython3",
   "version": "3.12.3"
  }
 },
 "nbformat": 4,
 "nbformat_minor": 5
}
