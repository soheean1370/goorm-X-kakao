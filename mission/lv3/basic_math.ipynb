{
 "cells": [
  {
   "cell_type": "markdown",
   "id": "4516cd86-b52e-4b80-899e-924bbaf8514a",
   "metadata": {},
   "source": [
    "# 선형 방정식 계산"
   ]
  },
  {
   "cell_type": "code",
   "execution_count": 3,
   "id": "341df8e1-b008-46f3-bc91-4aa1d4afdf36",
   "metadata": {},
   "outputs": [
    {
     "name": "stdout",
     "output_type": "stream",
     "text": [
      "연립방정식:\n",
      "2*x1 + -1*x2 + 1*x3 = 3\n",
      "3*x1 + 9*x2 + -3*x3 = 12\n",
      "1*x1 + 2*x2 + -3*x3 = -4\n",
      "\n",
      "해:\n",
      "x1 = 1\n",
      "x2 = 2\n",
      "x3 = 3\n",
      "\n",
      "검산:\n",
      "원래 방정식과 해의 일치 여부: True\n"
     ]
    }
   ],
   "source": [
    "import numpy as np\n",
    "\n",
    "# 연립방정식 계수 행렬과 상수 벡터 정의\n",
    "mat1 = np.array([[2, -1, 1], [3, 9, -3], [1, 2, -3]])\n",
    "mat2 = np.array([3, 12, -4])\n",
    "\n",
    "# 연립방정식 풀이\n",
    "x = np.linalg.solve(mat1, mat2)\n",
    "\n",
    "# 원래 연립방정식 출력\n",
    "print(\"연립방정식:\")\n",
    "for i in range(len(mat1)):\n",
    "    equation = ' + '.join([f'{mat1[i][j]}*x{j+1}' for j in range(len(mat1[i]))])\n",
    "    print(f'{equation} = {mat2[i]}')\n",
    "\n",
    "print(\"\\n해:\")\n",
    "print(f'x1 = {x[0]:.0f}')\n",
    "print(f'x2 = {x[1]:.0f}')\n",
    "print(f'x3 = {x[2]:.0f}')\n",
    "\n",
    "# 검산\n",
    "print(\"\\n검산:\")\n",
    "print(\"원래 방정식과 해의 일치 여부:\", np.allclose(np.dot(mat1, x), mat2))"
   ]
  },
  {
   "cell_type": "markdown",
   "id": "7e6c1991-7b72-43ef-8f28-d645cedbe142",
   "metadata": {},
   "source": [
    "# 벡터의 기본 연산 수행하기 - 곱셈"
   ]
  },
  {
   "cell_type": "code",
   "execution_count": 38,
   "id": "b1f93ca7-f3b9-4dee-9f28-8fe449eabbbc",
   "metadata": {},
   "outputs": [
    {
     "name": "stdout",
     "output_type": "stream",
     "text": [
      "곱셈 결과: [ 3 12 27]\n"
     ]
    }
   ],
   "source": [
    "import numpy as np\n",
    "\n",
    "arr1 = np.array([1, 2, 3])\n",
    "arr2 = np.array([3, 6, 9])\n",
    "\n",
    "multiplication = arr1 * arr2\n",
    "print(f\"곱셈 결과: {multiplication}\") "
   ]
  },
  {
   "cell_type": "markdown",
   "id": "64c0e93c-1128-4504-af3d-9416a10be278",
   "metadata": {},
   "source": [
    "# 벡터의 기본 연산 수행하기 - 뺄셈"
   ]
  },
  {
   "cell_type": "code",
   "execution_count": 41,
   "id": "db2122be-22d0-46ff-baea-6d08c29741ff",
   "metadata": {},
   "outputs": [
    {
     "name": "stdout",
     "output_type": "stream",
     "text": [
      "뺄셈 결과: [2 4 6]\n"
     ]
    }
   ],
   "source": [
    "subtraction = arr2 - arr1\n",
    "print(f\"뺄셈 결과: {subtraction}\") "
   ]
  },
  {
   "cell_type": "markdown",
   "id": "079fa64c-6652-485f-bd39-faa1952df2ba",
   "metadata": {},
   "source": [
    "# 벡터의 기본 연산 수행하기 - 덧셈"
   ]
  },
  {
   "cell_type": "code",
   "execution_count": 44,
   "id": "7e74aa70-a4c3-456b-bace-7c8c77ed9fda",
   "metadata": {},
   "outputs": [
    {
     "name": "stdout",
     "output_type": "stream",
     "text": [
      "덧셈 결과: [ 4  8 12]\n"
     ]
    }
   ],
   "source": [
    "addition = arr1 + arr2\n",
    "print(f\"덧셈 결과: {addition}\")"
   ]
  },
  {
   "cell_type": "markdown",
   "id": "68a568df-a9ff-41c1-b59a-153a17b60c44",
   "metadata": {},
   "source": [
    "# 정규표현식으로 이메일 주소 추출해보기"
   ]
  },
  {
   "cell_type": "code",
   "execution_count": 28,
   "id": "faff9c55-d9b9-4e74-a61d-023aaeabd3f2",
   "metadata": {},
   "outputs": [
    {
     "name": "stdout",
     "output_type": "stream",
     "text": [
      "search 결과: soheean1370@gmail.com\n",
      "match 결과: 문자열 시작에서 이메일을 찾을 수 없음\n",
      "findall 결과: ['soheean1370@gmail.com', 'soheean1370@pusan.ac.kr', 'soheean1370@naver.com']\n",
      "발견된 이메일 개수: 3\n",
      "이메일 1: soheean1370@gmail.com\n",
      "이메일 2: soheean1370@pusan.ac.kr\n",
      "이메일 3: soheean1370@naver.com\n"
     ]
    }
   ],
   "source": [
    "import re\n",
    "\n",
    "text = \"연락처: soheean1370@gmail.com, 그리고 soheean1370@pusan.ac.kr 입니다. 또한 soheean1370@naver.com 로도 문의 가능합니다.\"\n",
    "\n",
    "# 이메일 정규식 패턴\n",
    "email_pattern = r\"\\b[A-Za-z0-9._%+-]+@[A-Za-z0-9.-]+\\.[A-Z|a-z]{2,}\\b\"\n",
    "\n",
    "# 첫 번째 이메일 찾기\n",
    "search_result = re.search(email_pattern, text)\n",
    "if search_result:\n",
    "    print(f\"search 결과: {search_result.group()}\")\n",
    "\n",
    "# 문자열이 이메일로 시작하는지 확인\n",
    "match_result = re.match(email_pattern, text)\n",
    "if not match_result:\n",
    "    print(\"match 결과: 문자열 시작에서 이메일을 찾을 수 없음\")\n",
    "\n",
    "# 모든 이메일 찾기\n",
    "findall_result = re.findall(email_pattern, text)\n",
    "print(f\"findall 결과: {findall_result}\")\n",
    "print(f\"발견된 이메일 개수: {len(findall_result)}\")\n",
    "\n",
    "# 모든 이메일 반복 출력\n",
    "for i, match in enumerate(re.finditer(email_pattern, text), 1):\n",
    "    print(f\"이메일 {i}: {match.group()}\")\n"
   ]
  },
  {
   "cell_type": "code",
   "execution_count": null,
   "id": "debd9a28-6094-458a-9bf3-0ac0e1e39833",
   "metadata": {},
   "outputs": [],
   "source": []
  }
 ],
 "metadata": {
  "kernelspec": {
   "display_name": "Python [conda env:base] *",
   "language": "python",
   "name": "conda-base-py"
  },
  "language_info": {
   "codemirror_mode": {
    "name": "ipython",
    "version": 3
   },
   "file_extension": ".py",
   "mimetype": "text/x-python",
   "name": "python",
   "nbconvert_exporter": "python",
   "pygments_lexer": "ipython3",
   "version": "3.12.3"
  }
 },
 "nbformat": 4,
 "nbformat_minor": 5
}
